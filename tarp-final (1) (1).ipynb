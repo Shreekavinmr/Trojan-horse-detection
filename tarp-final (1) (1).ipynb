{
 "cells": [
  {
   "cell_type": "code",
   "execution_count": 1,
   "metadata": {
    "id": "usN-dufytiqy"
   },
   "outputs": [],
   "source": [
    "import pandas as pd"
   ]
  },
  {
   "cell_type": "code",
   "execution_count": 2,
   "metadata": {
    "id": "WxfmwwzJ4XZR"
   },
   "outputs": [],
   "source": [
    "df = pd.read_csv(\"C:\\\\Users\\\\Dell\\\\Downloads\\\\archive (1)\\\\Trojan_Detection.csv\", sep = r',', skipinitialspace = True)"
   ]
  },
  {
   "cell_type": "code",
   "execution_count": 3,
   "metadata": {
    "id": "LxQYX-WqBy2V"
   },
   "outputs": [],
   "source": [
    "df.drop(columns = df.columns[0], axis = 1, inplace= True)"
   ]
  },
  {
   "cell_type": "code",
   "execution_count": 4,
   "metadata": {
    "colab": {
     "base_uri": "https://localhost:8080/",
     "height": 508
    },
    "executionInfo": {
     "elapsed": 59,
     "status": "ok",
     "timestamp": 1666170278933,
     "user": {
      "displayName": "Ashwath",
      "userId": "11864902965035725143"
     },
     "user_tz": -330
    },
    "id": "XrNFLrzT4f1a",
    "outputId": "16ea67ee-0d27-4d6e-f74f-ff13e7bb5fd0"
   },
   "outputs": [
    {
     "data": {
      "text/html": [
       "<div>\n",
       "<style scoped>\n",
       "    .dataframe tbody tr th:only-of-type {\n",
       "        vertical-align: middle;\n",
       "    }\n",
       "\n",
       "    .dataframe tbody tr th {\n",
       "        vertical-align: top;\n",
       "    }\n",
       "\n",
       "    .dataframe thead th {\n",
       "        text-align: right;\n",
       "    }\n",
       "</style>\n",
       "<table border=\"1\" class=\"dataframe\">\n",
       "  <thead>\n",
       "    <tr style=\"text-align: right;\">\n",
       "      <th></th>\n",
       "      <th>Flow ID</th>\n",
       "      <th>Source IP</th>\n",
       "      <th>Source Port</th>\n",
       "      <th>Destination IP</th>\n",
       "      <th>Destination Port</th>\n",
       "      <th>Protocol</th>\n",
       "      <th>Timestamp</th>\n",
       "      <th>Flow Duration</th>\n",
       "      <th>Total Fwd Packets</th>\n",
       "      <th>Total Backward Packets</th>\n",
       "      <th>...</th>\n",
       "      <th>min_seg_size_forward</th>\n",
       "      <th>Active Mean</th>\n",
       "      <th>Active Std</th>\n",
       "      <th>Active Max</th>\n",
       "      <th>Active Min</th>\n",
       "      <th>Idle Mean</th>\n",
       "      <th>Idle Std</th>\n",
       "      <th>Idle Max</th>\n",
       "      <th>Idle Min</th>\n",
       "      <th>Class</th>\n",
       "    </tr>\n",
       "  </thead>\n",
       "  <tbody>\n",
       "    <tr>\n",
       "      <th>0</th>\n",
       "      <td>10.42.0.42-121.14.255.84-49975-80-6</td>\n",
       "      <td>10.42.0.42</td>\n",
       "      <td>49975</td>\n",
       "      <td>121.14.255.84</td>\n",
       "      <td>80</td>\n",
       "      <td>6</td>\n",
       "      <td>17/07/2017 01:18:33</td>\n",
       "      <td>10743584</td>\n",
       "      <td>4</td>\n",
       "      <td>4</td>\n",
       "      <td>...</td>\n",
       "      <td>20</td>\n",
       "      <td>0.0</td>\n",
       "      <td>0.0</td>\n",
       "      <td>0.0</td>\n",
       "      <td>0.0</td>\n",
       "      <td>0.0</td>\n",
       "      <td>0.0</td>\n",
       "      <td>0.0</td>\n",
       "      <td>0.0</td>\n",
       "      <td>Trojan</td>\n",
       "    </tr>\n",
       "    <tr>\n",
       "      <th>1</th>\n",
       "      <td>172.217.6.226-10.42.0.42-443-49169-17</td>\n",
       "      <td>10.42.0.42</td>\n",
       "      <td>49169</td>\n",
       "      <td>172.217.6.226</td>\n",
       "      <td>443</td>\n",
       "      <td>17</td>\n",
       "      <td>17/07/2017 10:25:25</td>\n",
       "      <td>254217</td>\n",
       "      <td>6</td>\n",
       "      <td>7</td>\n",
       "      <td>...</td>\n",
       "      <td>20</td>\n",
       "      <td>0.0</td>\n",
       "      <td>0.0</td>\n",
       "      <td>0.0</td>\n",
       "      <td>0.0</td>\n",
       "      <td>0.0</td>\n",
       "      <td>0.0</td>\n",
       "      <td>0.0</td>\n",
       "      <td>0.0</td>\n",
       "      <td>Trojan</td>\n",
       "    </tr>\n",
       "    <tr>\n",
       "      <th>2</th>\n",
       "      <td>10.42.0.1-10.42.0.42-53-37749-17</td>\n",
       "      <td>10.42.0.42</td>\n",
       "      <td>37749</td>\n",
       "      <td>10.42.0.1</td>\n",
       "      <td>53</td>\n",
       "      <td>17</td>\n",
       "      <td>30/06/2017 07:16:12</td>\n",
       "      <td>1023244</td>\n",
       "      <td>1</td>\n",
       "      <td>1</td>\n",
       "      <td>...</td>\n",
       "      <td>32</td>\n",
       "      <td>0.0</td>\n",
       "      <td>0.0</td>\n",
       "      <td>0.0</td>\n",
       "      <td>0.0</td>\n",
       "      <td>0.0</td>\n",
       "      <td>0.0</td>\n",
       "      <td>0.0</td>\n",
       "      <td>0.0</td>\n",
       "      <td>Benign</td>\n",
       "    </tr>\n",
       "    <tr>\n",
       "      <th>3</th>\n",
       "      <td>10.42.0.1-10.42.0.42-53-41352-17</td>\n",
       "      <td>10.42.0.42</td>\n",
       "      <td>41352</td>\n",
       "      <td>10.42.0.1</td>\n",
       "      <td>53</td>\n",
       "      <td>17</td>\n",
       "      <td>13/07/2017 03:48:44</td>\n",
       "      <td>286483</td>\n",
       "      <td>1</td>\n",
       "      <td>1</td>\n",
       "      <td>...</td>\n",
       "      <td>20</td>\n",
       "      <td>0.0</td>\n",
       "      <td>0.0</td>\n",
       "      <td>0.0</td>\n",
       "      <td>0.0</td>\n",
       "      <td>0.0</td>\n",
       "      <td>0.0</td>\n",
       "      <td>0.0</td>\n",
       "      <td>0.0</td>\n",
       "      <td>Trojan</td>\n",
       "    </tr>\n",
       "    <tr>\n",
       "      <th>4</th>\n",
       "      <td>10.42.0.151-107.22.241.77-44353-443-6</td>\n",
       "      <td>10.42.0.151</td>\n",
       "      <td>44353</td>\n",
       "      <td>107.22.241.77</td>\n",
       "      <td>443</td>\n",
       "      <td>6</td>\n",
       "      <td>05/07/2017 10:47:35</td>\n",
       "      <td>65633087</td>\n",
       "      <td>12</td>\n",
       "      <td>10</td>\n",
       "      <td>...</td>\n",
       "      <td>32</td>\n",
       "      <td>322594.0</td>\n",
       "      <td>0.0</td>\n",
       "      <td>322594.0</td>\n",
       "      <td>322594.0</td>\n",
       "      <td>60306983.0</td>\n",
       "      <td>0.0</td>\n",
       "      <td>60306983.0</td>\n",
       "      <td>60306983.0</td>\n",
       "      <td>Benign</td>\n",
       "    </tr>\n",
       "  </tbody>\n",
       "</table>\n",
       "<p>5 rows × 85 columns</p>\n",
       "</div>"
      ],
      "text/plain": [
       "                                 Flow ID    Source IP  Source Port  \\\n",
       "0    10.42.0.42-121.14.255.84-49975-80-6   10.42.0.42        49975   \n",
       "1  172.217.6.226-10.42.0.42-443-49169-17   10.42.0.42        49169   \n",
       "2       10.42.0.1-10.42.0.42-53-37749-17   10.42.0.42        37749   \n",
       "3       10.42.0.1-10.42.0.42-53-41352-17   10.42.0.42        41352   \n",
       "4  10.42.0.151-107.22.241.77-44353-443-6  10.42.0.151        44353   \n",
       "\n",
       "  Destination IP  Destination Port  Protocol            Timestamp  \\\n",
       "0  121.14.255.84                80         6  17/07/2017 01:18:33   \n",
       "1  172.217.6.226               443        17  17/07/2017 10:25:25   \n",
       "2      10.42.0.1                53        17  30/06/2017 07:16:12   \n",
       "3      10.42.0.1                53        17  13/07/2017 03:48:44   \n",
       "4  107.22.241.77               443         6  05/07/2017 10:47:35   \n",
       "\n",
       "   Flow Duration  Total Fwd Packets  Total Backward Packets  ...  \\\n",
       "0       10743584                  4                       4  ...   \n",
       "1         254217                  6                       7  ...   \n",
       "2        1023244                  1                       1  ...   \n",
       "3         286483                  1                       1  ...   \n",
       "4       65633087                 12                      10  ...   \n",
       "\n",
       "   min_seg_size_forward  Active Mean  Active Std  Active Max  Active Min  \\\n",
       "0                    20          0.0         0.0         0.0         0.0   \n",
       "1                    20          0.0         0.0         0.0         0.0   \n",
       "2                    32          0.0         0.0         0.0         0.0   \n",
       "3                    20          0.0         0.0         0.0         0.0   \n",
       "4                    32     322594.0         0.0    322594.0    322594.0   \n",
       "\n",
       "    Idle Mean  Idle Std    Idle Max    Idle Min   Class  \n",
       "0         0.0       0.0         0.0         0.0  Trojan  \n",
       "1         0.0       0.0         0.0         0.0  Trojan  \n",
       "2         0.0       0.0         0.0         0.0  Benign  \n",
       "3         0.0       0.0         0.0         0.0  Trojan  \n",
       "4  60306983.0       0.0  60306983.0  60306983.0  Benign  \n",
       "\n",
       "[5 rows x 85 columns]"
      ]
     },
     "execution_count": 4,
     "metadata": {},
     "output_type": "execute_result"
    }
   ],
   "source": [
    "df.head()"
   ]
  },
  {
   "cell_type": "code",
   "execution_count": 5,
   "metadata": {
    "colab": {
     "base_uri": "https://localhost:8080/",
     "height": 508
    },
    "executionInfo": {
     "elapsed": 881,
     "status": "ok",
     "timestamp": 1666170279760,
     "user": {
      "displayName": "Ashwath",
      "userId": "11864902965035725143"
     },
     "user_tz": -330
    },
    "id": "sowcLyzk4itT",
    "outputId": "8cc9cf2b-02b1-4cbf-dc95-6f32e683484d"
   },
   "outputs": [
    {
     "data": {
      "text/html": [
       "<div>\n",
       "<style scoped>\n",
       "    .dataframe tbody tr th:only-of-type {\n",
       "        vertical-align: middle;\n",
       "    }\n",
       "\n",
       "    .dataframe tbody tr th {\n",
       "        vertical-align: top;\n",
       "    }\n",
       "\n",
       "    .dataframe thead th {\n",
       "        text-align: right;\n",
       "    }\n",
       "</style>\n",
       "<table border=\"1\" class=\"dataframe\">\n",
       "  <thead>\n",
       "    <tr style=\"text-align: right;\">\n",
       "      <th></th>\n",
       "      <th>Flow ID</th>\n",
       "      <th>Source IP</th>\n",
       "      <th>Source Port</th>\n",
       "      <th>Destination IP</th>\n",
       "      <th>Destination Port</th>\n",
       "      <th>Protocol</th>\n",
       "      <th>Timestamp</th>\n",
       "      <th>Flow Duration</th>\n",
       "      <th>Total Fwd Packets</th>\n",
       "      <th>Total Backward Packets</th>\n",
       "      <th>...</th>\n",
       "      <th>min_seg_size_forward</th>\n",
       "      <th>Active Mean</th>\n",
       "      <th>Active Std</th>\n",
       "      <th>Active Max</th>\n",
       "      <th>Active Min</th>\n",
       "      <th>Idle Mean</th>\n",
       "      <th>Idle Std</th>\n",
       "      <th>Idle Max</th>\n",
       "      <th>Idle Min</th>\n",
       "      <th>Class</th>\n",
       "    </tr>\n",
       "  </thead>\n",
       "  <tbody>\n",
       "    <tr>\n",
       "      <th>0</th>\n",
       "      <td>10.42.0.42-121.14.255.84-49975-80-6</td>\n",
       "      <td>10.42.0.42</td>\n",
       "      <td>49975</td>\n",
       "      <td>121.14.255.84</td>\n",
       "      <td>80</td>\n",
       "      <td>6</td>\n",
       "      <td>17/07/2017 01:18:33</td>\n",
       "      <td>10743584</td>\n",
       "      <td>4</td>\n",
       "      <td>4</td>\n",
       "      <td>...</td>\n",
       "      <td>20</td>\n",
       "      <td>0.0</td>\n",
       "      <td>0.0</td>\n",
       "      <td>0.0</td>\n",
       "      <td>0.0</td>\n",
       "      <td>0.0</td>\n",
       "      <td>0.0</td>\n",
       "      <td>0.0</td>\n",
       "      <td>0.0</td>\n",
       "      <td>1</td>\n",
       "    </tr>\n",
       "    <tr>\n",
       "      <th>1</th>\n",
       "      <td>172.217.6.226-10.42.0.42-443-49169-17</td>\n",
       "      <td>10.42.0.42</td>\n",
       "      <td>49169</td>\n",
       "      <td>172.217.6.226</td>\n",
       "      <td>443</td>\n",
       "      <td>17</td>\n",
       "      <td>17/07/2017 10:25:25</td>\n",
       "      <td>254217</td>\n",
       "      <td>6</td>\n",
       "      <td>7</td>\n",
       "      <td>...</td>\n",
       "      <td>20</td>\n",
       "      <td>0.0</td>\n",
       "      <td>0.0</td>\n",
       "      <td>0.0</td>\n",
       "      <td>0.0</td>\n",
       "      <td>0.0</td>\n",
       "      <td>0.0</td>\n",
       "      <td>0.0</td>\n",
       "      <td>0.0</td>\n",
       "      <td>1</td>\n",
       "    </tr>\n",
       "    <tr>\n",
       "      <th>2</th>\n",
       "      <td>10.42.0.1-10.42.0.42-53-37749-17</td>\n",
       "      <td>10.42.0.42</td>\n",
       "      <td>37749</td>\n",
       "      <td>10.42.0.1</td>\n",
       "      <td>53</td>\n",
       "      <td>17</td>\n",
       "      <td>30/06/2017 07:16:12</td>\n",
       "      <td>1023244</td>\n",
       "      <td>1</td>\n",
       "      <td>1</td>\n",
       "      <td>...</td>\n",
       "      <td>32</td>\n",
       "      <td>0.0</td>\n",
       "      <td>0.0</td>\n",
       "      <td>0.0</td>\n",
       "      <td>0.0</td>\n",
       "      <td>0.0</td>\n",
       "      <td>0.0</td>\n",
       "      <td>0.0</td>\n",
       "      <td>0.0</td>\n",
       "      <td>0</td>\n",
       "    </tr>\n",
       "    <tr>\n",
       "      <th>3</th>\n",
       "      <td>10.42.0.1-10.42.0.42-53-41352-17</td>\n",
       "      <td>10.42.0.42</td>\n",
       "      <td>41352</td>\n",
       "      <td>10.42.0.1</td>\n",
       "      <td>53</td>\n",
       "      <td>17</td>\n",
       "      <td>13/07/2017 03:48:44</td>\n",
       "      <td>286483</td>\n",
       "      <td>1</td>\n",
       "      <td>1</td>\n",
       "      <td>...</td>\n",
       "      <td>20</td>\n",
       "      <td>0.0</td>\n",
       "      <td>0.0</td>\n",
       "      <td>0.0</td>\n",
       "      <td>0.0</td>\n",
       "      <td>0.0</td>\n",
       "      <td>0.0</td>\n",
       "      <td>0.0</td>\n",
       "      <td>0.0</td>\n",
       "      <td>1</td>\n",
       "    </tr>\n",
       "    <tr>\n",
       "      <th>4</th>\n",
       "      <td>10.42.0.151-107.22.241.77-44353-443-6</td>\n",
       "      <td>10.42.0.151</td>\n",
       "      <td>44353</td>\n",
       "      <td>107.22.241.77</td>\n",
       "      <td>443</td>\n",
       "      <td>6</td>\n",
       "      <td>05/07/2017 10:47:35</td>\n",
       "      <td>65633087</td>\n",
       "      <td>12</td>\n",
       "      <td>10</td>\n",
       "      <td>...</td>\n",
       "      <td>32</td>\n",
       "      <td>322594.0</td>\n",
       "      <td>0.0</td>\n",
       "      <td>322594.0</td>\n",
       "      <td>322594.0</td>\n",
       "      <td>60306983.0</td>\n",
       "      <td>0.0</td>\n",
       "      <td>60306983.0</td>\n",
       "      <td>60306983.0</td>\n",
       "      <td>0</td>\n",
       "    </tr>\n",
       "  </tbody>\n",
       "</table>\n",
       "<p>5 rows × 85 columns</p>\n",
       "</div>"
      ],
      "text/plain": [
       "                                 Flow ID    Source IP  Source Port  \\\n",
       "0    10.42.0.42-121.14.255.84-49975-80-6   10.42.0.42        49975   \n",
       "1  172.217.6.226-10.42.0.42-443-49169-17   10.42.0.42        49169   \n",
       "2       10.42.0.1-10.42.0.42-53-37749-17   10.42.0.42        37749   \n",
       "3       10.42.0.1-10.42.0.42-53-41352-17   10.42.0.42        41352   \n",
       "4  10.42.0.151-107.22.241.77-44353-443-6  10.42.0.151        44353   \n",
       "\n",
       "  Destination IP  Destination Port  Protocol            Timestamp  \\\n",
       "0  121.14.255.84                80         6  17/07/2017 01:18:33   \n",
       "1  172.217.6.226               443        17  17/07/2017 10:25:25   \n",
       "2      10.42.0.1                53        17  30/06/2017 07:16:12   \n",
       "3      10.42.0.1                53        17  13/07/2017 03:48:44   \n",
       "4  107.22.241.77               443         6  05/07/2017 10:47:35   \n",
       "\n",
       "   Flow Duration  Total Fwd Packets  Total Backward Packets  ...  \\\n",
       "0       10743584                  4                       4  ...   \n",
       "1         254217                  6                       7  ...   \n",
       "2        1023244                  1                       1  ...   \n",
       "3         286483                  1                       1  ...   \n",
       "4       65633087                 12                      10  ...   \n",
       "\n",
       "   min_seg_size_forward  Active Mean  Active Std  Active Max  Active Min  \\\n",
       "0                    20          0.0         0.0         0.0         0.0   \n",
       "1                    20          0.0         0.0         0.0         0.0   \n",
       "2                    32          0.0         0.0         0.0         0.0   \n",
       "3                    20          0.0         0.0         0.0         0.0   \n",
       "4                    32     322594.0         0.0    322594.0    322594.0   \n",
       "\n",
       "    Idle Mean  Idle Std    Idle Max    Idle Min  Class  \n",
       "0         0.0       0.0         0.0         0.0      1  \n",
       "1         0.0       0.0         0.0         0.0      1  \n",
       "2         0.0       0.0         0.0         0.0      0  \n",
       "3         0.0       0.0         0.0         0.0      1  \n",
       "4  60306983.0       0.0  60306983.0  60306983.0      0  \n",
       "\n",
       "[5 rows x 85 columns]"
      ]
     },
     "execution_count": 5,
     "metadata": {},
     "output_type": "execute_result"
    }
   ],
   "source": [
    "df = df.dropna()\n",
    "df = df.replace(\"Trojan\", 1)\n",
    "df = df.replace(\"Benign\", 0)\n",
    "\n",
    "df.head()"
   ]
  },
  {
   "cell_type": "markdown",
   "metadata": {},
   "source": [
    "#this code is converting categorical data (specifically, \"Flow ID\", \"Source IP\", \"Destination IP\", and \"Timestamp\") into numerical format using label encoding. This can be useful for certain machine learning algorithms that require numerical input."
   ]
  },
  {
   "cell_type": "code",
   "execution_count": 6,
   "metadata": {
    "colab": {
     "base_uri": "https://localhost:8080/",
     "height": 334
    },
    "executionInfo": {
     "elapsed": 58,
     "status": "ok",
     "timestamp": 1666170279765,
     "user": {
      "displayName": "Ashwath",
      "userId": "11864902965035725143"
     },
     "user_tz": -330
    },
    "id": "nTQPTB_U4xFq",
    "outputId": "a127d9eb-424e-4807-b94e-5f9c2e06416e"
   },
   "outputs": [
    {
     "data": {
      "text/html": [
       "<div>\n",
       "<style scoped>\n",
       "    .dataframe tbody tr th:only-of-type {\n",
       "        vertical-align: middle;\n",
       "    }\n",
       "\n",
       "    .dataframe tbody tr th {\n",
       "        vertical-align: top;\n",
       "    }\n",
       "\n",
       "    .dataframe thead th {\n",
       "        text-align: right;\n",
       "    }\n",
       "</style>\n",
       "<table border=\"1\" class=\"dataframe\">\n",
       "  <thead>\n",
       "    <tr style=\"text-align: right;\">\n",
       "      <th></th>\n",
       "      <th>Flow ID</th>\n",
       "      <th>Source IP</th>\n",
       "      <th>Source Port</th>\n",
       "      <th>Destination IP</th>\n",
       "      <th>Destination Port</th>\n",
       "      <th>Protocol</th>\n",
       "      <th>Timestamp</th>\n",
       "      <th>Flow Duration</th>\n",
       "      <th>Total Fwd Packets</th>\n",
       "      <th>Total Backward Packets</th>\n",
       "      <th>...</th>\n",
       "      <th>min_seg_size_forward</th>\n",
       "      <th>Active Mean</th>\n",
       "      <th>Active Std</th>\n",
       "      <th>Active Max</th>\n",
       "      <th>Active Min</th>\n",
       "      <th>Idle Mean</th>\n",
       "      <th>Idle Std</th>\n",
       "      <th>Idle Max</th>\n",
       "      <th>Idle Min</th>\n",
       "      <th>Class</th>\n",
       "    </tr>\n",
       "  </thead>\n",
       "  <tbody>\n",
       "    <tr>\n",
       "      <th>0</th>\n",
       "      <td>46111</td>\n",
       "      <td>7</td>\n",
       "      <td>49975</td>\n",
       "      <td>352</td>\n",
       "      <td>80</td>\n",
       "      <td>6</td>\n",
       "      <td>36269</td>\n",
       "      <td>10743584</td>\n",
       "      <td>4</td>\n",
       "      <td>4</td>\n",
       "      <td>...</td>\n",
       "      <td>20</td>\n",
       "      <td>0.0</td>\n",
       "      <td>0.0</td>\n",
       "      <td>0.0</td>\n",
       "      <td>0.0</td>\n",
       "      <td>0.0</td>\n",
       "      <td>0.0</td>\n",
       "      <td>0.0</td>\n",
       "      <td>0.0</td>\n",
       "      <td>1</td>\n",
       "    </tr>\n",
       "    <tr>\n",
       "      <th>1</th>\n",
       "      <td>74905</td>\n",
       "      <td>7</td>\n",
       "      <td>49169</td>\n",
       "      <td>895</td>\n",
       "      <td>443</td>\n",
       "      <td>17</td>\n",
       "      <td>39241</td>\n",
       "      <td>254217</td>\n",
       "      <td>6</td>\n",
       "      <td>7</td>\n",
       "      <td>...</td>\n",
       "      <td>20</td>\n",
       "      <td>0.0</td>\n",
       "      <td>0.0</td>\n",
       "      <td>0.0</td>\n",
       "      <td>0.0</td>\n",
       "      <td>0.0</td>\n",
       "      <td>0.0</td>\n",
       "      <td>0.0</td>\n",
       "      <td>0.0</td>\n",
       "      <td>1</td>\n",
       "    </tr>\n",
       "    <tr>\n",
       "      <th>2</th>\n",
       "      <td>9217</td>\n",
       "      <td>7</td>\n",
       "      <td>37749</td>\n",
       "      <td>7</td>\n",
       "      <td>53</td>\n",
       "      <td>17</td>\n",
       "      <td>42069</td>\n",
       "      <td>1023244</td>\n",
       "      <td>1</td>\n",
       "      <td>1</td>\n",
       "      <td>...</td>\n",
       "      <td>32</td>\n",
       "      <td>0.0</td>\n",
       "      <td>0.0</td>\n",
       "      <td>0.0</td>\n",
       "      <td>0.0</td>\n",
       "      <td>0.0</td>\n",
       "      <td>0.0</td>\n",
       "      <td>0.0</td>\n",
       "      <td>0.0</td>\n",
       "      <td>0</td>\n",
       "    </tr>\n",
       "    <tr>\n",
       "      <th>3</th>\n",
       "      <td>10418</td>\n",
       "      <td>7</td>\n",
       "      <td>41352</td>\n",
       "      <td>7</td>\n",
       "      <td>53</td>\n",
       "      <td>17</td>\n",
       "      <td>29885</td>\n",
       "      <td>286483</td>\n",
       "      <td>1</td>\n",
       "      <td>1</td>\n",
       "      <td>...</td>\n",
       "      <td>20</td>\n",
       "      <td>0.0</td>\n",
       "      <td>0.0</td>\n",
       "      <td>0.0</td>\n",
       "      <td>0.0</td>\n",
       "      <td>0.0</td>\n",
       "      <td>0.0</td>\n",
       "      <td>0.0</td>\n",
       "      <td>0.0</td>\n",
       "      <td>1</td>\n",
       "    </tr>\n",
       "    <tr>\n",
       "      <th>4</th>\n",
       "      <td>20763</td>\n",
       "      <td>5</td>\n",
       "      <td>44353</td>\n",
       "      <td>220</td>\n",
       "      <td>443</td>\n",
       "      <td>6</td>\n",
       "      <td>16589</td>\n",
       "      <td>65633087</td>\n",
       "      <td>12</td>\n",
       "      <td>10</td>\n",
       "      <td>...</td>\n",
       "      <td>32</td>\n",
       "      <td>322594.0</td>\n",
       "      <td>0.0</td>\n",
       "      <td>322594.0</td>\n",
       "      <td>322594.0</td>\n",
       "      <td>60306983.0</td>\n",
       "      <td>0.0</td>\n",
       "      <td>60306983.0</td>\n",
       "      <td>60306983.0</td>\n",
       "      <td>0</td>\n",
       "    </tr>\n",
       "  </tbody>\n",
       "</table>\n",
       "<p>5 rows × 85 columns</p>\n",
       "</div>"
      ],
      "text/plain": [
       "   Flow ID  Source IP  Source Port  Destination IP  Destination Port  \\\n",
       "0    46111          7        49975             352                80   \n",
       "1    74905          7        49169             895               443   \n",
       "2     9217          7        37749               7                53   \n",
       "3    10418          7        41352               7                53   \n",
       "4    20763          5        44353             220               443   \n",
       "\n",
       "   Protocol  Timestamp  Flow Duration  Total Fwd Packets  \\\n",
       "0         6      36269       10743584                  4   \n",
       "1        17      39241         254217                  6   \n",
       "2        17      42069        1023244                  1   \n",
       "3        17      29885         286483                  1   \n",
       "4         6      16589       65633087                 12   \n",
       "\n",
       "   Total Backward Packets  ...  min_seg_size_forward  Active Mean  Active Std  \\\n",
       "0                       4  ...                    20          0.0         0.0   \n",
       "1                       7  ...                    20          0.0         0.0   \n",
       "2                       1  ...                    32          0.0         0.0   \n",
       "3                       1  ...                    20          0.0         0.0   \n",
       "4                      10  ...                    32     322594.0         0.0   \n",
       "\n",
       "   Active Max  Active Min   Idle Mean  Idle Std    Idle Max    Idle Min  Class  \n",
       "0         0.0         0.0         0.0       0.0         0.0         0.0      1  \n",
       "1         0.0         0.0         0.0       0.0         0.0         0.0      1  \n",
       "2         0.0         0.0         0.0       0.0         0.0         0.0      0  \n",
       "3         0.0         0.0         0.0       0.0         0.0         0.0      1  \n",
       "4    322594.0    322594.0  60306983.0       0.0  60306983.0  60306983.0      0  \n",
       "\n",
       "[5 rows x 85 columns]"
      ]
     },
     "execution_count": 6,
     "metadata": {},
     "output_type": "execute_result"
    }
   ],
   "source": [
    "from sklearn import preprocessing\n",
    "number = preprocessing.LabelEncoder()\n",
    "df[\"Flow ID\"] = number.fit_transform(df[\"Flow ID\"])\n",
    "df[\"Source IP\"] = number.fit_transform(df[\"Source IP\"])\n",
    "df[\"Destination IP\"] = number.fit_transform(df[\"Destination IP\"])\n",
    "df[\"Timestamp\"] = number.fit_transform(df[\"Timestamp\"])\n",
    "df.head()"
   ]
  },
  {
   "cell_type": "code",
   "execution_count": 7,
   "metadata": {
    "colab": {
     "base_uri": "https://localhost:8080/"
    },
    "executionInfo": {
     "elapsed": 53,
     "status": "ok",
     "timestamp": 1666170279769,
     "user": {
      "displayName": "Ashwath",
      "userId": "11864902965035725143"
     },
     "user_tz": -330
    },
    "id": "_S41WV7O44Ob",
    "outputId": "32645634-2784-4706-b1f3-d3871201173b"
   },
   "outputs": [
    {
     "data": {
      "text/plain": [
       "Flow ID               int32\n",
       "Source IP             int32\n",
       "Source Port           int64\n",
       "Destination IP        int32\n",
       "Destination Port      int64\n",
       "                     ...   \n",
       "Idle Mean           float64\n",
       "Idle Std            float64\n",
       "Idle Max            float64\n",
       "Idle Min            float64\n",
       "Class                 int64\n",
       "Length: 85, dtype: object"
      ]
     },
     "execution_count": 7,
     "metadata": {},
     "output_type": "execute_result"
    }
   ],
   "source": [
    "df.dtypes"
   ]
  },
  {
   "cell_type": "markdown",
   "metadata": {
    "id": "-Cqn9aKI55AI"
   },
   "source": []
  },
  {
   "cell_type": "code",
   "execution_count": 8,
   "metadata": {
    "colab": {
     "base_uri": "https://localhost:8080/"
    },
    "executionInfo": {
     "elapsed": 1277,
     "status": "ok",
     "timestamp": 1666170281005,
     "user": {
      "displayName": "Ashwath",
      "userId": "11864902965035725143"
     },
     "user_tz": -330
    },
    "id": "6yBQeHDK5LI8",
    "outputId": "a264437c-c1c8-4dd2-e0ef-e70a2f496603"
   },
   "outputs": [
    {
     "data": {
      "text/plain": [
       "0         36269\n",
       "1         39241\n",
       "2         42069\n",
       "3         29885\n",
       "4         16589\n",
       "          ...  \n",
       "177477    29969\n",
       "177478    38763\n",
       "177479    32912\n",
       "177480    26598\n",
       "177481    15700\n",
       "Name: Timestamp, Length: 177482, dtype: int32"
      ]
     },
     "execution_count": 8,
     "metadata": {},
     "output_type": "execute_result"
    }
   ],
   "source": [
    "df[\"Timestamp\"]"
   ]
  },
  {
   "cell_type": "code",
   "execution_count": 9,
   "metadata": {
    "id": "FjaS6upt7FMF"
   },
   "outputs": [],
   "source": [
    "from sklearn.model_selection import train_test_split\n",
    "X = df.drop([\"Class\"], axis = 1)\n",
    "y = df[\"Class\"]\n",
    "\n",
    "X_train, X_test, y_train, y_test = train_test_split(X,y,test_size=0.2, random_state=0)"
   ]
  },
  {
   "cell_type": "code",
   "execution_count": 10,
   "metadata": {
    "colab": {
     "base_uri": "https://localhost:8080/"
    },
    "executionInfo": {
     "elapsed": 59,
     "status": "ok",
     "timestamp": 1666170281010,
     "user": {
      "displayName": "Ashwath",
      "userId": "11864902965035725143"
     },
     "user_tz": -330
    },
    "id": "IRgk9NUc7wHU",
    "outputId": "d67de4ef-fcb6-4b83-c9e3-18b5d254dca9"
   },
   "outputs": [
    {
     "data": {
      "text/plain": [
       "((141985, 84), (35497, 84), (141985,), (35497,))"
      ]
     },
     "execution_count": 10,
     "metadata": {},
     "output_type": "execute_result"
    }
   ],
   "source": [
    "X_train.shape, X_test.shape, y_train.shape, y_test.shape"
   ]
  },
  {
   "cell_type": "code",
   "execution_count": 11,
   "metadata": {
    "colab": {
     "base_uri": "https://localhost:8080/"
    },
    "executionInfo": {
     "elapsed": 83624,
     "status": "ok",
     "timestamp": 1666170364585,
     "user": {
      "displayName": "Ashwath",
      "userId": "11864902965035725143"
     },
     "user_tz": -330
    },
    "id": "cMSU4sYu8Icb",
    "outputId": "9d707d92-e129-46b7-d5bc-be5b693f2643"
   },
   "outputs": [
    {
     "data": {
      "text/plain": [
       "array([4.57357127e-01, 1.25702703e-01, 1.01922163e-01, 1.22528862e-01,\n",
       "       1.68042333e-02, 1.02993900e-02, 6.91606296e-01, 4.29960681e-02,\n",
       "       4.51715888e-03, 3.99415023e-03, 4.46702412e-02, 4.90194974e-02,\n",
       "       4.09231981e-02, 6.30733782e-03, 4.54693297e-02, 4.57229651e-02,\n",
       "       2.85006242e-02, 1.50818869e-02, 5.20911346e-02, 4.54848568e-02,\n",
       "       1.95340210e-02, 3.81330455e-02, 3.62276770e-02, 1.38592715e-02,\n",
       "       4.45091157e-02, 3.51375128e-02, 3.39746693e-02, 3.22878032e-02,\n",
       "       1.39273640e-02, 3.19276505e-02, 3.20207833e-02, 1.45647741e-02,\n",
       "       1.22600603e-02, 1.16667688e-02, 1.47692819e-02, 1.64878439e-02,\n",
       "       3.79095931e-04, 0.00000000e+00, 2.76708279e-04, 1.33413481e-03,\n",
       "       7.33133039e-03, 1.13692164e-02, 3.90087334e-02, 2.18149722e-02,\n",
       "       8.54378410e-03, 3.59538180e-02, 5.30496616e-02, 5.14082519e-02,\n",
       "       5.32361261e-02, 0.00000000e+00, 2.32417145e-03, 0.00000000e+00,\n",
       "       2.71046538e-03, 5.23964180e-03, 1.37701214e-03, 0.00000000e+00,\n",
       "       4.76009612e-04, 5.69048157e-03, 5.37732273e-02, 4.43246441e-02,\n",
       "       5.23341450e-02, 8.98870846e-03, 0.00000000e+00, 1.00395264e-03,\n",
       "       0.00000000e+00, 0.00000000e+00, 1.36360632e-03, 7.32166294e-04,\n",
       "       4.23964150e-03, 4.47994072e-02, 4.38614755e-03, 4.81829890e-02,\n",
       "       3.97220533e-02, 3.57841374e-02, 6.31527420e-03, 1.01620054e-02,\n",
       "       5.64556628e-03, 1.30530613e-04, 2.97356670e-03, 3.13245617e-03,\n",
       "       4.92153940e-03, 1.12528863e-03, 7.51320940e-03, 6.82237939e-03])"
      ]
     },
     "execution_count": 11,
     "metadata": {},
     "output_type": "execute_result"
    }
   ],
   "source": [
    "from sklearn.feature_selection import mutual_info_classif\n",
    "# determine the mutual information\n",
    "\n",
    "mutual_info = mutual_info_classif(X_train, y_train)\n",
    "mutual_info"
   ]
  },
  {
   "cell_type": "code",
   "execution_count": 12,
   "metadata": {
    "colab": {
     "base_uri": "https://localhost:8080/"
    },
    "executionInfo": {
     "elapsed": 94,
     "status": "ok",
     "timestamp": 1666170364587,
     "user": {
      "displayName": "Ashwath",
      "userId": "11864902965035725143"
     },
     "user_tz": -330
    },
    "id": "t4NGheTD8mdD",
    "outputId": "f05a095d-723f-4854-e396-042e897ef5a3"
   },
   "outputs": [
    {
     "data": {
      "text/plain": [
       "Timestamp             0.691606\n",
       "Flow ID               0.457357\n",
       "Source IP             0.125703\n",
       "Destination IP        0.122529\n",
       "Source Port           0.101922\n",
       "                        ...   \n",
       "FIN Flag Count        0.000000\n",
       "CWE Flag Count        0.000000\n",
       "Bwd Avg Bytes/Bulk    0.000000\n",
       "Fwd Avg Bulk Rate     0.000000\n",
       "Fwd Avg Bytes/Bulk    0.000000\n",
       "Length: 84, dtype: float64"
      ]
     },
     "execution_count": 12,
     "metadata": {},
     "output_type": "execute_result"
    }
   ],
   "source": [
    "mutual_info = pd.Series(mutual_info)\n",
    "mutual_info.index = X_train.columns\n",
    "mutual_info.sort_values(ascending=False)"
   ]
  },
  {
   "cell_type": "code",
   "execution_count": 13,
   "metadata": {
    "colab": {
     "base_uri": "https://localhost:8080/",
     "height": 437
    },
    "executionInfo": {
     "elapsed": 1141,
     "status": "ok",
     "timestamp": 1666170365645,
     "user": {
      "displayName": "Ashwath",
      "userId": "11864902965035725143"
     },
     "user_tz": -330
    },
    "id": "55F12lK89wbE",
    "outputId": "eb47d64f-e5ea-4304-f8f1-ecb660db6a62"
   },
   "outputs": [
    {
     "data": {
      "text/plain": [
       "<AxesSubplot:>"
      ]
     },
     "execution_count": 13,
     "metadata": {},
     "output_type": "execute_result"
    },
    {
     "data": {
      "image/png": "[encoded data removed]",
      "text/plain": [
       "<Figure size 2160x576 with 1 Axes>"
      ]
     },
     "metadata": {
      "needs_background": "light"
     },
     "output_type": "display_data"
    }
   ],
   "source": [
    "mutual_info.sort_values(ascending=False).plot.bar(figsize=(30,8))"
   ]
  },
  {
   "cell_type": "code",
   "execution_count": 14,
   "metadata": {
    "id": "2qJtTmSb-D6X"
   },
   "outputs": [],
   "source": [
    "# Now we select the top features.\n",
    "from sklearn.feature_selection import SelectKBest\n",
    "sel_seven_cols = SelectKBest(mutual_info_classif, k=10)\n",
    "sel_seven_cols.fit(X_train, y_train)\n",
    "cols = X_train.columns[sel_seven_cols.get_support()]"
   ]
  },
  {
   "cell_type": "code",
   "execution_count": 15,
   "metadata": {
    "id": "Ggk5QWnOAUQd"
   },
   "outputs": [],
   "source": [
    "use_col = list(cols)\n",
    "use_col.append(\"Class\")"
   ]
  },
  {
   "cell_type": "code",
   "execution_count": 16,
   "metadata": {
    "id": "GAUZh8JcBpyU"
   },
   "outputs": [],
   "source": [
    "data = df[use_col]"
   ]
  },
  {
   "cell_type": "code",
   "execution_count": 17,
   "metadata": {
    "colab": {
     "base_uri": "https://localhost:8080/",
     "height": 485
    },
    "executionInfo": {
     "elapsed": 106,
     "status": "ok",
     "timestamp": 1666170451243,
     "user": {
      "displayName": "Ashwath",
      "userId": "11864902965035725143"
     },
     "user_tz": -330
    },
    "id": "u5L_W5t3D75_",
    "outputId": "621939cf-97e8-4ad9-f169-24a0dd87e5bc"
   },
   "outputs": [
    {
     "data": {
      "text/html": [
       "<div>\n",
       "<style scoped>\n",
       "    .dataframe tbody tr th:only-of-type {\n",
       "        vertical-align: middle;\n",
       "    }\n",
       "\n",
       "    .dataframe tbody tr th {\n",
       "        vertical-align: top;\n",
       "    }\n",
       "\n",
       "    .dataframe thead th {\n",
       "        text-align: right;\n",
       "    }\n",
       "</style>\n",
       "<table border=\"1\" class=\"dataframe\">\n",
       "  <thead>\n",
       "    <tr style=\"text-align: right;\">\n",
       "      <th></th>\n",
       "      <th>Flow ID</th>\n",
       "      <th>Source IP</th>\n",
       "      <th>Source Port</th>\n",
       "      <th>Destination IP</th>\n",
       "      <th>Timestamp</th>\n",
       "      <th>Packet Length Mean</th>\n",
       "      <th>Packet Length Std</th>\n",
       "      <th>Packet Length Variance</th>\n",
       "      <th>Average Packet Size</th>\n",
       "      <th>Avg Bwd Segment Size</th>\n",
       "      <th>Class</th>\n",
       "    </tr>\n",
       "  </thead>\n",
       "  <tbody>\n",
       "    <tr>\n",
       "      <th>0</th>\n",
       "      <td>46111</td>\n",
       "      <td>7</td>\n",
       "      <td>49975</td>\n",
       "      <td>352</td>\n",
       "      <td>36269</td>\n",
       "      <td>116.000000</td>\n",
       "      <td>242.090892</td>\n",
       "      <td>58608.000000</td>\n",
       "      <td>130.500000</td>\n",
       "      <td>168.000000</td>\n",
       "      <td>1</td>\n",
       "    </tr>\n",
       "    <tr>\n",
       "      <th>1</th>\n",
       "      <td>74905</td>\n",
       "      <td>7</td>\n",
       "      <td>49169</td>\n",
       "      <td>895</td>\n",
       "      <td>39241</td>\n",
       "      <td>699.071429</td>\n",
       "      <td>647.514356</td>\n",
       "      <td>419274.840659</td>\n",
       "      <td>752.846154</td>\n",
       "      <td>749.428571</td>\n",
       "      <td>1</td>\n",
       "    </tr>\n",
       "    <tr>\n",
       "      <th>2</th>\n",
       "      <td>9217</td>\n",
       "      <td>7</td>\n",
       "      <td>37749</td>\n",
       "      <td>7</td>\n",
       "      <td>42069</td>\n",
       "      <td>79.666667</td>\n",
       "      <td>86.025190</td>\n",
       "      <td>7400.333333</td>\n",
       "      <td>119.500000</td>\n",
       "      <td>179.000000</td>\n",
       "      <td>0</td>\n",
       "    </tr>\n",
       "    <tr>\n",
       "      <th>3</th>\n",
       "      <td>10418</td>\n",
       "      <td>7</td>\n",
       "      <td>41352</td>\n",
       "      <td>7</td>\n",
       "      <td>29885</td>\n",
       "      <td>62.000000</td>\n",
       "      <td>38.105118</td>\n",
       "      <td>1452.000000</td>\n",
       "      <td>93.000000</td>\n",
       "      <td>106.000000</td>\n",
       "      <td>1</td>\n",
       "    </tr>\n",
       "    <tr>\n",
       "      <th>4</th>\n",
       "      <td>20763</td>\n",
       "      <td>5</td>\n",
       "      <td>44353</td>\n",
       "      <td>220</td>\n",
       "      <td>16589</td>\n",
       "      <td>277.782609</td>\n",
       "      <td>496.257444</td>\n",
       "      <td>246271.450593</td>\n",
       "      <td>290.409091</td>\n",
       "      <td>562.200000</td>\n",
       "      <td>0</td>\n",
       "    </tr>\n",
       "    <tr>\n",
       "      <th>...</th>\n",
       "      <td>...</td>\n",
       "      <td>...</td>\n",
       "      <td>...</td>\n",
       "      <td>...</td>\n",
       "      <td>...</td>\n",
       "      <td>...</td>\n",
       "      <td>...</td>\n",
       "      <td>...</td>\n",
       "      <td>...</td>\n",
       "      <td>...</td>\n",
       "      <td>...</td>\n",
       "    </tr>\n",
       "    <tr>\n",
       "      <th>177477</th>\n",
       "      <td>54441</td>\n",
       "      <td>7</td>\n",
       "      <td>60811</td>\n",
       "      <td>2817</td>\n",
       "      <td>29969</td>\n",
       "      <td>0.000000</td>\n",
       "      <td>0.000000</td>\n",
       "      <td>0.000000</td>\n",
       "      <td>0.000000</td>\n",
       "      <td>0.000000</td>\n",
       "      <td>1</td>\n",
       "    </tr>\n",
       "    <tr>\n",
       "      <th>177478</th>\n",
       "      <td>52664</td>\n",
       "      <td>7</td>\n",
       "      <td>33004</td>\n",
       "      <td>2512</td>\n",
       "      <td>38763</td>\n",
       "      <td>0.000000</td>\n",
       "      <td>0.000000</td>\n",
       "      <td>0.000000</td>\n",
       "      <td>0.000000</td>\n",
       "      <td>0.000000</td>\n",
       "      <td>1</td>\n",
       "    </tr>\n",
       "    <tr>\n",
       "      <th>177479</th>\n",
       "      <td>76988</td>\n",
       "      <td>7</td>\n",
       "      <td>51049</td>\n",
       "      <td>943</td>\n",
       "      <td>32912</td>\n",
       "      <td>312.117647</td>\n",
       "      <td>488.342590</td>\n",
       "      <td>238478.485294</td>\n",
       "      <td>331.625000</td>\n",
       "      <td>634.142857</td>\n",
       "      <td>1</td>\n",
       "    </tr>\n",
       "    <tr>\n",
       "      <th>177480</th>\n",
       "      <td>30452</td>\n",
       "      <td>6</td>\n",
       "      <td>9145</td>\n",
       "      <td>7</td>\n",
       "      <td>26598</td>\n",
       "      <td>50.333333</td>\n",
       "      <td>23.094011</td>\n",
       "      <td>533.333333</td>\n",
       "      <td>75.500000</td>\n",
       "      <td>77.000000</td>\n",
       "      <td>1</td>\n",
       "    </tr>\n",
       "    <tr>\n",
       "      <th>177481</th>\n",
       "      <td>41054</td>\n",
       "      <td>7</td>\n",
       "      <td>47389</td>\n",
       "      <td>112</td>\n",
       "      <td>15700</td>\n",
       "      <td>0.000000</td>\n",
       "      <td>0.000000</td>\n",
       "      <td>0.000000</td>\n",
       "      <td>0.000000</td>\n",
       "      <td>0.000000</td>\n",
       "      <td>0</td>\n",
       "    </tr>\n",
       "  </tbody>\n",
       "</table>\n",
       "<p>177482 rows × 11 columns</p>\n",
       "</div>"
      ],
      "text/plain": [
       "        Flow ID  Source IP  Source Port  Destination IP  Timestamp  \\\n",
       "0         46111          7        49975             352      36269   \n",
       "1         74905          7        49169             895      39241   \n",
       "2          9217          7        37749               7      42069   \n",
       "3         10418          7        41352               7      29885   \n",
       "4         20763          5        44353             220      16589   \n",
       "...         ...        ...          ...             ...        ...   \n",
       "177477    54441          7        60811            2817      29969   \n",
       "177478    52664          7        33004            2512      38763   \n",
       "177479    76988          7        51049             943      32912   \n",
       "177480    30452          6         9145               7      26598   \n",
       "177481    41054          7        47389             112      15700   \n",
       "\n",
       "        Packet Length Mean  Packet Length Std  Packet Length Variance  \\\n",
       "0               116.000000         242.090892            58608.000000   \n",
       "1               699.071429         647.514356           419274.840659   \n",
       "2                79.666667          86.025190             7400.333333   \n",
       "3                62.000000          38.105118             1452.000000   \n",
       "4               277.782609         496.257444           246271.450593   \n",
       "...                    ...                ...                     ...   \n",
       "177477            0.000000           0.000000                0.000000   \n",
       "177478            0.000000           0.000000                0.000000   \n",
       "177479          312.117647         488.342590           238478.485294   \n",
       "177480           50.333333          23.094011              533.333333   \n",
       "177481            0.000000           0.000000                0.000000   \n",
       "\n",
       "        Average Packet Size  Avg Bwd Segment Size  Class  \n",
       "0                130.500000            168.000000      1  \n",
       "1                752.846154            749.428571      1  \n",
       "2                119.500000            179.000000      0  \n",
       "3                 93.000000            106.000000      1  \n",
       "4                290.409091            562.200000      0  \n",
       "...                     ...                   ...    ...  \n",
       "177477             0.000000              0.000000      1  \n",
       "177478             0.000000              0.000000      1  \n",
       "177479           331.625000            634.142857      1  \n",
       "177480            75.500000             77.000000      1  \n",
       "177481             0.000000              0.000000      0  \n",
       "\n",
       "[177482 rows x 11 columns]"
      ]
     },
     "execution_count": 17,
     "metadata": {},
     "output_type": "execute_result"
    }
   ],
   "source": [
    "data"
   ]
  },
  {
   "cell_type": "code",
   "execution_count": 18,
   "metadata": {
    "colab": {
     "base_uri": "https://localhost:8080/"
    },
    "executionInfo": {
     "elapsed": 101,
     "status": "ok",
     "timestamp": 1666170451244,
     "user": {
      "displayName": "Ashwath",
      "userId": "11864902965035725143"
     },
     "user_tz": -330
    },
    "id": "kg6VkigvD9M3",
    "outputId": "3f86550f-b116-4f03-c57c-a0a83b997671"
   },
   "outputs": [
    {
     "data": {
      "text/plain": [
       "((141985, 10), (35497, 10), (141985,), (35497,))"
      ]
     },
     "execution_count": 18,
     "metadata": {},
     "output_type": "execute_result"
    }
   ],
   "source": [
    "from sklearn.model_selection import train_test_split\n",
    "X = data.drop(\"Class\", axis = 1) #This line creates a new DataFrame X by dropping the column labeled \"Class\" from the DataFrame data. \n",
    "y = data[\"Class\"] #This line creates a Series y containing only the \"Class\" column from the DataFrame data. \n",
    "\n",
    "X_train, X_test, y_train, y_test = train_test_split(X,y,test_size=0.2) # 20 perecnt testing 80% training\n",
    "X_train.shape, X_test.shape, y_train.shape, y_test.shape"
   ]
  },
  {
   "cell_type": "markdown",
   "metadata": {
    "id": "8eEdml0bJAlw"
   },
   "source": [
    "# **Random Forest classifier**"
   ]
  },
  {
   "cell_type": "code",
   "execution_count": 19,
   "metadata": {},
   "outputs": [],
   "source": [
    "import numpy as np  # Import NumPy"
   ]
  },
  {
   "cell_type": "code",
   "execution_count": 20,
   "metadata": {
    "colab": {
     "base_uri": "https://localhost:8080/"
    },
    "executionInfo": {
     "elapsed": 8495,
     "status": "ok",
     "timestamp": 1666170459650,
     "user": {
      "displayName": "Ashwath",
      "userId": "11864902965035725143"
     },
     "user_tz": -330
    },
    "id": "DDT1eaAdE42j",
    "outputId": "701d6e93-0357-4129-9225-be75f9d297db"
   },
   "outputs": [
    {
     "data": {
      "text/plain": [
       "0.9998309716314054"
      ]
     },
     "execution_count": 20,
     "metadata": {},
     "output_type": "execute_result"
    }
   ],
   "source": [
    "from sklearn.ensemble import RandomForestClassifier\n",
    "# Setup random seed\n",
    "np.random.seed(42)\n",
    "clf = RandomForestClassifier(n_estimators = 50) #50 trees (estimators). The n_estimators parameter controls how many trees will be used in the forest.\n",
    "clf.fit(X_train,y_train)\n",
    "clf.score(X_test,y_test)"
   ]
  },
  {
   "cell_type": "code",
   "execution_count": 21,
   "metadata": {
    "colab": {
     "base_uri": "https://localhost:8080/"
    },
    "executionInfo": {
     "elapsed": 88,
     "status": "ok",
     "timestamp": 1666170459653,
     "user": {
      "displayName": "Ashwath",
      "userId": "11864902965035725143"
     },
     "user_tz": -330
    },
    "id": "mxPKMWeyF4ka",
    "outputId": "96144c28-e91e-4282-bc38-e4c4430349e0"
   },
   "outputs": [
    {
     "data": {
      "text/plain": [
       "array([0, 0, 1, ..., 0, 0, 0], dtype=int64)"
      ]
     },
     "execution_count": 21,
     "metadata": {},
     "output_type": "execute_result"
    }
   ],
   "source": [
    "y_preds = clf.predict(X_test)\n",
    "y_preds"
   ]
  },
  {
   "cell_type": "code",
   "execution_count": 22,
   "metadata": {
    "colab": {
     "base_uri": "https://localhost:8080/"
    },
    "executionInfo": {
     "elapsed": 81,
     "status": "ok",
     "timestamp": 1666170459655,
     "user": {
      "displayName": "Ashwath",
      "userId": "11864902965035725143"
     },
     "user_tz": -330
    },
    "id": "ahHIDU7YG2nA",
    "outputId": "591fcf76-3b08-4ef4-e435-5d9d9937bc8c"
   },
   "outputs": [
    {
     "name": "stdout",
     "output_type": "stream",
     "text": [
      "              precision    recall  f1-score   support\n",
      "\n",
      "           0       1.00      1.00      1.00     17321\n",
      "           1       1.00      1.00      1.00     18176\n",
      "\n",
      "    accuracy                           1.00     35497\n",
      "   macro avg       1.00      1.00      1.00     35497\n",
      "weighted avg       1.00      1.00      1.00     35497\n",
      "\n"
     ]
    }
   ],
   "source": [
    "from sklearn.metrics import classification_report, confusion_matrix, accuracy_score\n",
    "\n",
    "print(classification_report(y_test, y_preds))"
   ]
  },
  {
   "cell_type": "code",
   "execution_count": 23,
   "metadata": {
    "colab": {
     "base_uri": "https://localhost:8080/"
    },
    "executionInfo": {
     "elapsed": 81666,
     "status": "ok",
     "timestamp": 1666170541248,
     "user": {
      "displayName": "Ashwath",
      "userId": "11864902965035725143"
     },
     "user_tz": -330
    },
    "id": "7qkE4lAjHDxJ",
    "outputId": "b7264ba5-ba56-493b-bf92-099558f09330"
   },
   "outputs": [
    {
     "name": "stdout",
     "output_type": "stream",
     "text": [
      "Trying model with 10 estimators...\n",
      "Model accuracy on test set : 99.98%\n",
      " \n",
      "Trying model with 20 estimators...\n",
      "Model accuracy on test set : 99.98%\n",
      " \n",
      "Trying model with 30 estimators...\n",
      "Model accuracy on test set : 99.99%\n",
      " \n",
      "Trying model with 40 estimators...\n",
      "Model accuracy on test set : 99.98%\n",
      " \n",
      "Trying model with 50 estimators...\n",
      "Model accuracy on test set : 99.98%\n",
      " \n",
      "Trying model with 60 estimators...\n",
      "Model accuracy on test set : 99.99%\n",
      " \n",
      "Trying model with 70 estimators...\n",
      "Model accuracy on test set : 99.99%\n",
      " \n",
      "Trying model with 80 estimators...\n",
      "Model accuracy on test set : 99.99%\n",
      " \n",
      "Trying model with 90 estimators...\n",
      "Model accuracy on test set : 99.99%\n",
      " \n"
     ]
    }
   ],
   "source": [
    "# Imporve model.\n",
    "# Try different amount on n_estimators\n",
    "import numpy as np\n",
    "np.random.seed(42)\n",
    "for i in range(10,100,10):\n",
    "    print(f\"Trying model with {i} estimators...\")\n",
    "    clf = RandomForestClassifier(n_estimators=i).fit(X_train, y_train)\n",
    "    print(f\"Model accuracy on test set : {clf.score(X_test,y_test) * 100:.2f}%\")\n",
    "    print(\" \")"
   ]
  },
  {
   "cell_type": "code",
   "execution_count": 24,
   "metadata": {
    "colab": {
     "base_uri": "https://localhost:8080/"
    },
    "executionInfo": {
     "elapsed": 81833,
     "status": "ok",
     "timestamp": 1666170623006,
     "user": {
      "displayName": "Ashwath",
      "userId": "11864902965035725143"
     },
     "user_tz": -330
    },
    "id": "vLO8oL4MHXwS",
    "outputId": "1a33b500-0707-4edf-d622-e6c37cd1d004"
   },
   "outputs": [
    {
     "data": {
      "text/plain": [
       "0.9998985810740837"
      ]
     },
     "execution_count": 24,
     "metadata": {},
     "output_type": "execute_result"
    }
   ],
   "source": [
    "from sklearn.model_selection import cross_val_score\n",
    "cross_val_score = cross_val_score(clf, X, y)\n",
    "np.mean(cross_val_score)"
   ]
  },
  {
   "cell_type": "markdown",
   "metadata": {
    "id": "MhQZY5vLJXbT"
   },
   "source": [
    "# **AdaBoost classifier**"
   ]
  },
  {
   "cell_type": "code",
   "execution_count": null,
   "metadata": {},
   "outputs": [],
   "source": [
    "#This code is following a conventional train-test split approach. It fits the model to \n",
    "#a portion of the data (training set) and then assesses its performance on a separate, previously unseen \n",
    "#portion of the data (test set).\n",
    "from sklearn.ensemble import AdaBoostClassifier\n",
    "\n",
    "# Setup random seed\n",
    "np.random.seed(42)\n",
    "Aclf = AdaBoostClassifier(n_estimators=100)\n",
    "Aclf.fit(X_train,y_train)\n",
    "Aclf.score(X_test,y_test)"
   ]
  },
  {
   "cell_type": "code",
   "execution_count": 28,
   "metadata": {
    "colab": {
     "base_uri": "https://localhost:8080/"
    },
    "executionInfo": {
     "elapsed": 99639,
     "status": "ok",
     "timestamp": 1666170741684,
     "user": {
      "displayName": "Ashwath",
      "userId": "11864902965035725143"
     },
     "user_tz": -330
    },
    "id": "MFCoxRZtJ3aC",
    "outputId": "a76d2978-926f-45c7-f498-4530c3527817"
   },
   "outputs": [
    {
     "data": {
      "text/plain": [
       "0.9999436565755486"
      ]
     },
     "execution_count": 28,
     "metadata": {},
     "output_type": "execute_result"
    }
   ],
   "source": [
    "#using cross-validation to obtain a more robust estimate of the model's \n",
    "#performance by systematically testing it on different subsets of the data.\n",
    "from sklearn.model_selection import cross_val_score\n",
    "cross_val_score = cross_val_score(Aclf, X, y)\n",
    "np.mean(cross_val_score)"
   ]
  },
  {
   "cell_type": "code",
   "execution_count": 29,
   "metadata": {
    "colab": {
     "base_uri": "https://localhost:8080/",
     "height": 296
    },
    "executionInfo": {
     "elapsed": 3312,
     "status": "ok",
     "timestamp": 1666170744940,
     "user": {
      "displayName": "Ashwath",
      "userId": "11864902965035725143"
     },
     "user_tz": -330
    },
    "id": "c3y0J63SKMmP",
    "outputId": "cdba4e6b-0c0b-4975-84df-97add36956e9"
   },
   "outputs": [
    {
     "data": {
      "text/plain": [
       "<sklearn.metrics._plot.confusion_matrix.ConfusionMatrixDisplay at 0x24096772fd0>"
      ]
     },
     "execution_count": 29,
     "metadata": {},
     "output_type": "execute_result"
    },
    {
     "data": {
      "image/png": "[encoded data removed]",
      "text/plain": [
       "<Figure size 432x288 with 2 Axes>"
      ]
     },
     "metadata": {
      "needs_background": "light"
     },
     "output_type": "display_data"
    }
   ],
   "source": [
    "from sklearn.metrics import ConfusionMatrixDisplay\n",
    "\n",
    "ConfusionMatrixDisplay.from_estimator(estimator=Aclf, X=X,y=y)"
   ]
  },
  {
   "cell_type": "code",
   "execution_count": 30,
   "metadata": {
    "colab": {
     "base_uri": "https://localhost:8080/"
    },
    "executionInfo": {
     "elapsed": 15220,
     "status": "ok",
     "timestamp": 1666170760154,
     "user": {
      "displayName": "Ashwath",
      "userId": "11864902965035725143"
     },
     "user_tz": -330
    },
    "id": "NkOHkiY6MB5z",
    "outputId": "20d35996-68df-47f0-8638-2a87c4a7035b"
   },
   "outputs": [
    {
     "data": {
      "text/plain": [
       "0.9999154858157028"
      ]
     },
     "execution_count": 30,
     "metadata": {},
     "output_type": "execute_result"
    }
   ],
   "source": [
    "from sklearn.ensemble import GradientBoostingClassifier\n",
    "Gclf = GradientBoostingClassifier(n_estimators=100, learning_rate=1.0,max_depth=1, random_state=0).fit(X_train, y_train)\n",
    "Gclf.score(X_test,y_test)"
   ]
  },
  {
   "cell_type": "markdown",
   "metadata": {
    "id": "bE_GjARYXVAq"
   },
   "source": [
    "# **GaussianNB Classifier**"
   ]
  },
  {
   "cell_type": "markdown",
   "metadata": {
    "id": "ivYvIf8NXbvn"
   },
   "source": [
    "### Fitting the data into the model."
   ]
  },
  {
   "cell_type": "code",
   "execution_count": 31,
   "metadata": {
    "colab": {
     "base_uri": "https://localhost:8080/"
    },
    "executionInfo": {
     "elapsed": 438,
     "status": "ok",
     "timestamp": 1666174539549,
     "user": {
      "displayName": "Ashwath",
      "userId": "11864902965035725143"
     },
     "user_tz": -330
    },
    "id": "EOAmbU6KMgw6",
    "outputId": "c90050b6-44f8-4c83-f511-4c99c6bf7bbb"
   },
   "outputs": [
    {
     "data": {
      "text/plain": [
       "GaussianNB()"
      ]
     },
     "execution_count": 31,
     "metadata": {},
     "output_type": "execute_result"
    }
   ],
   "source": [
    "from sklearn.naive_bayes import GaussianNB\n",
    "# Setup random seed\n",
    "np.random.seed(42)\n",
    "gnb = GaussianNB()\n",
    "gnb.fit(X_train, y_train)\n"
   ]
  },
  {
   "cell_type": "markdown",
   "metadata": {
    "id": "mDaPtBihb5MO"
   },
   "source": [
    "Evaluating the model using `score()` method"
   ]
  },
  {
   "cell_type": "code",
   "execution_count": 32,
   "metadata": {
    "colab": {
     "base_uri": "https://localhost:8080/"
    },
    "executionInfo": {
     "elapsed": 22,
     "status": "ok",
     "timestamp": 1666174539959,
     "user": {
      "displayName": "Ashwath",
      "userId": "11864902965035725143"
     },
     "user_tz": -330
    },
    "id": "WX4UFEDEb3ib",
    "outputId": "91ec66bf-fcd9-453f-92bc-fdfd19f175d8"
   },
   "outputs": [
    {
     "name": "stdout",
     "output_type": "stream",
     "text": [
      "Model accuracy on test set using score method : 90.57%\n"
     ]
    }
   ],
   "source": [
    "print(f\"Model accuracy on test set using score method : {gnb.score(X_test,y_test) * 100:.2f}%\")\n"
   ]
  },
  {
   "cell_type": "code",
   "execution_count": 33,
   "metadata": {
    "colab": {
     "base_uri": "https://localhost:8080/"
    },
    "executionInfo": {
     "elapsed": 15,
     "status": "ok",
     "timestamp": 1666174539962,
     "user": {
      "displayName": "Ashwath",
      "userId": "11864902965035725143"
     },
     "user_tz": -330
    },
    "id": "6Lhzyr9OaH62",
    "outputId": "b73d4cca-015d-46a9-e5bc-deb5e7d1ff71"
   },
   "outputs": [
    {
     "data": {
      "text/plain": [
       "array([0, 0, 1, ..., 1, 0, 0], dtype=int64)"
      ]
     },
     "execution_count": 33,
     "metadata": {},
     "output_type": "execute_result"
    }
   ],
   "source": [
    "y_preds = gnb.predict(X_test)\n",
    "y_preds"
   ]
  },
  {
   "cell_type": "markdown",
   "metadata": {
    "id": "3Eca5r2FXrFp"
   },
   "source": [
    "### Evlauating the model using Cross-validation method to avoid overfitting"
   ]
  },
  {
   "cell_type": "code",
   "execution_count": 34,
   "metadata": {
    "colab": {
     "base_uri": "https://localhost:8080/"
    },
    "executionInfo": {
     "elapsed": 48,
     "status": "ok",
     "timestamp": 1666170760160,
     "user": {
      "displayName": "Ashwath",
      "userId": "11864902965035725143"
     },
     "user_tz": -330
    },
    "id": "3kDmqETFP4cF",
    "outputId": "a8dcfa3b-a49b-42b9-f051-98db5194cb71"
   },
   "outputs": [
    {
     "name": "stdout",
     "output_type": "stream",
     "text": [
      "Model accuracy on test set using Cross-validation method : 90.40%\n"
     ]
    }
   ],
   "source": [
    "from sklearn.model_selection import cross_val_score\n",
    "cross_val_score = cross_val_score(gnb, X, y)\n",
    "print(f\"Model accuracy on test set using Cross-validation method : {np.mean(cross_val_score) * 100:.2f}%\")"
   ]
  },
  {
   "cell_type": "markdown",
   "metadata": {
    "id": "9ynV9SGiXz0_"
   },
   "source": [
    "### Confusion matrix"
   ]
  },
  {
   "cell_type": "code",
   "execution_count": 35,
   "metadata": {
    "colab": {
     "base_uri": "https://localhost:8080/",
     "height": 296
    },
    "executionInfo": {
     "elapsed": 44,
     "status": "ok",
     "timestamp": 1666170760161,
     "user": {
      "displayName": "Ashwath",
      "userId": "11864902965035725143"
     },
     "user_tz": -330
    },
    "id": "3ro6vaZ5QARK",
    "outputId": "aac25447-1ab1-4fed-ef2b-734312cc2949"
   },
   "outputs": [
    {
     "data": {
      "text/plain": [
       "<sklearn.metrics._plot.confusion_matrix.ConfusionMatrixDisplay at 0x24096827bb0>"
      ]
     },
     "execution_count": 35,
     "metadata": {},
     "output_type": "execute_result"
    },
    {
     "data": {
      "image/png": "[encoded data removed]",
      "text/plain": [
       "<Figure size 432x288 with 2 Axes>"
      ]
     },
     "metadata": {
      "needs_background": "light"
     },
     "output_type": "display_data"
    }
   ],
   "source": [
    "from sklearn.metrics import ConfusionMatrixDisplay\n",
    "ConfusionMatrixDisplay.from_estimator(estimator=gnb, X=X,y=y)"
   ]
  },
  {
   "cell_type": "markdown",
   "metadata": {
    "id": "C-OoTovxYnhU"
   },
   "source": [
    "### Model Evaluation: Area under the reciever operating characteristic curve (AUC/ROC)\n",
    "\n",
    "* Area under curve (AUC)\n",
    "* ROC curve\n",
    "* ROC curves are a comparison of a model's true positive rate (tpr) versuss a models false positive rate (fpr).\n",
    "\n",
    "- True possitve = model predicts 1 when truth is 1.\n",
    "- False possitive = model predicts 1 when truth is 0.\n",
    "- True negative = model predicts 0 when truth is 0.\n",
    "- False negative = model predicts 0 when truth is 1"
   ]
  },
  {
   "cell_type": "code",
   "execution_count": 36,
   "metadata": {
    "colab": {
     "base_uri": "https://localhost:8080/"
    },
    "executionInfo": {
     "elapsed": 83,
     "status": "ok",
     "timestamp": 1666170760918,
     "user": {
      "displayName": "Ashwath",
      "userId": "11864902965035725143"
     },
     "user_tz": -330
    },
    "id": "DRcxo9ZKXLRD",
    "outputId": "7716482b-43fc-4798-dfe1-3f87f7fa8fef"
   },
   "outputs": [
    {
     "data": {
      "text/plain": [
       "array([[9.97123651e-01, 2.87634900e-03],\n",
       "       [9.99565325e-01, 4.34674797e-04],\n",
       "       [4.08456714e-01, 5.91543286e-01],\n",
       "       [6.38789464e-02, 9.36121054e-01],\n",
       "       [5.15371567e-01, 4.84628433e-01],\n",
       "       [5.90309068e-02, 9.40969093e-01],\n",
       "       [9.97280781e-01, 2.71921899e-03],\n",
       "       [3.27420790e-01, 6.72579210e-01],\n",
       "       [9.99209966e-01, 7.90033995e-04],\n",
       "       [9.36898787e-01, 6.31012127e-02]])"
      ]
     },
     "execution_count": 36,
     "metadata": {},
     "output_type": "execute_result"
    }
   ],
   "source": [
    "# Make predictions with probabilities\n",
    "y_probs = gnb.predict_proba(X_test)\n",
    "y_probs[:10]"
   ]
  },
  {
   "cell_type": "code",
   "execution_count": 37,
   "metadata": {
    "colab": {
     "base_uri": "https://localhost:8080/"
    },
    "executionInfo": {
     "elapsed": 81,
     "status": "ok",
     "timestamp": 1666170760920,
     "user": {
      "displayName": "Ashwath",
      "userId": "11864902965035725143"
     },
     "user_tz": -330
    },
    "id": "iaN6CjRcY6a7",
    "outputId": "5da398aa-e6ca-4cbd-eca8-1d3d7d89f8d6"
   },
   "outputs": [
    {
     "data": {
      "text/plain": [
       "array([2.87634900e-03, 4.34674797e-04, 5.91543286e-01, 9.36121054e-01,\n",
       "       4.84628433e-01, 9.40969093e-01, 2.71921899e-03, 6.72579210e-01,\n",
       "       7.90033995e-04, 6.31012127e-02])"
      ]
     },
     "execution_count": 37,
     "metadata": {},
     "output_type": "execute_result"
    }
   ],
   "source": [
    "y_probs_positive = y_probs[:,1]\n",
    "y_probs_positive[:10]"
   ]
  },
  {
   "cell_type": "code",
   "execution_count": 38,
   "metadata": {
    "colab": {
     "base_uri": "https://localhost:8080/"
    },
    "executionInfo": {
     "elapsed": 75,
     "status": "ok",
     "timestamp": 1666170760923,
     "user": {
      "displayName": "Ashwath",
      "userId": "11864902965035725143"
     },
     "user_tz": -330
    },
    "id": "13Cv_VdWZCop",
    "outputId": "426b15f3-1cc0-453f-c249-933831b1fdc2"
   },
   "outputs": [
    {
     "data": {
      "text/plain": [
       "array([0.00000000e+00, 0.00000000e+00, 2.30933549e-04, ...,\n",
       "       9.50407020e-01, 9.50522487e-01, 1.00000000e+00])"
      ]
     },
     "execution_count": 38,
     "metadata": {},
     "output_type": "execute_result"
    }
   ],
   "source": [
    "# Claculate fpr, tpr and thresholds.\n",
    "from sklearn.metrics import roc_curve\n",
    "fpr, tpr, thresholds = roc_curve(y_test, y_probs_positive)\n",
    "\n",
    "# Check the false positive rates\n",
    "fpr"
   ]
  },
  {
   "cell_type": "code",
   "execution_count": 39,
   "metadata": {
    "colab": {
     "base_uri": "https://localhost:8080/",
     "height": 295
    },
    "executionInfo": {
     "elapsed": 69,
     "status": "ok",
     "timestamp": 1666170760926,
     "user": {
      "displayName": "Ashwath",
      "userId": "11864902965035725143"
     },
     "user_tz": -330
    },
    "id": "7kWJQpYVZP-8",
    "outputId": "cc3c3fba-c4ea-42bc-f940-a8720021cb57"
   },
   "outputs": [
    {
     "data": {
      "image/png": "[encoded data removed]",
      "text/plain": [
       "<Figure size 432x288 with 1 Axes>"
      ]
     },
     "metadata": {
      "needs_background": "light"
     },
     "output_type": "display_data"
    }
   ],
   "source": [
    "import matplotlib.pyplot as plt\n",
    "\n",
    "def plot_roc_curve(fpr, tpr):\n",
    "    \"\"\"\n",
    "    Plots a ROC curve given the false positive rate (fpr)\n",
    "    and true positive rate (tpr) of a model\n",
    "    \"\"\"\n",
    "    # Plot ROC curve\n",
    "    plt.plot(fpr, tpr, color = \"orange\", label=\"ROC\")\n",
    "    \n",
    "    #Customize the plot.\n",
    "    plt.xlabel(\"False positive rate (fptr)\")\n",
    "    plt.ylabel(\"True positive rate (tpr)\")\n",
    "    plt.title(\"Reciever Operating Characteristic (ROC) curve\")\n",
    "    plt.legend()\n",
    "    plt.show()\n",
    "    \n",
    "plot_roc_curve(fpr, tpr)"
   ]
  },
  {
   "cell_type": "code",
   "execution_count": 40,
   "metadata": {
    "colab": {
     "base_uri": "https://localhost:8080/"
    },
    "executionInfo": {
     "elapsed": 67,
     "status": "ok",
     "timestamp": 1666170760929,
     "user": {
      "displayName": "Ashwath",
      "userId": "11864902965035725143"
     },
     "user_tz": -330
    },
    "id": "vmko9fIlZjqA",
    "outputId": "bbeec85a-2ebf-40b4-e2f5-3e33c8296e9e"
   },
   "outputs": [
    {
     "name": "stdout",
     "output_type": "stream",
     "text": [
      "Model accuracy on test set using reciver operating characteristic score method : 92.65%\n"
     ]
    }
   ],
   "source": [
    "from sklearn.metrics import roc_auc_score\n",
    "print(f\"Model accuracy on test set using reciver operating characteristic score method : {roc_auc_score(y_test, y_probs_positive) * 100:.2f}%\")\n"
   ]
  },
  {
   "cell_type": "markdown",
   "metadata": {
    "id": "turPKsX_aqIW"
   },
   "source": [
    "## Classification Report for **GaussianNB Classifier**"
   ]
  },
  {
   "cell_type": "code",
   "execution_count": 41,
   "metadata": {
    "colab": {
     "base_uri": "https://localhost:8080/"
    },
    "executionInfo": {
     "elapsed": 60,
     "status": "ok",
     "timestamp": 1666170760931,
     "user": {
      "displayName": "Ashwath",
      "userId": "11864902965035725143"
     },
     "user_tz": -330
    },
    "id": "B6ptz_SHZvK8",
    "outputId": "b8116017-693f-4bbe-a263-53ffdd4264cc"
   },
   "outputs": [
    {
     "name": "stdout",
     "output_type": "stream",
     "text": [
      "              precision    recall  f1-score   support\n",
      "\n",
      "           0       0.90      0.91      0.90     17321\n",
      "           1       0.92      0.90      0.91     18176\n",
      "\n",
      "    accuracy                           0.91     35497\n",
      "   macro avg       0.91      0.91      0.91     35497\n",
      "weighted avg       0.91      0.91      0.91     35497\n",
      "\n"
     ]
    }
   ],
   "source": [
    "from sklearn.metrics import classification_report\n",
    "print(classification_report(y_test, y_preds))"
   ]
  },
  {
   "cell_type": "markdown",
   "metadata": {},
   "source": [
    "# Deep learning (Feed forward neural network)"
   ]
  },
  {
   "cell_type": "code",
   "execution_count": 42,
   "metadata": {
    "id": "XtZX7A03anwD"
   },
   "outputs": [
    {
     "name": "stdout",
     "output_type": "stream",
     "text": [
      "Requirement already satisfied: tensorflow in c:\\users\\dell\\anaconda3\\lib\\site-packages (2.12.0)\n",
      "Requirement already satisfied: tensorflow-intel==2.12.0 in c:\\users\\dell\\anaconda3\\lib\\site-packages (from tensorflow) (2.12.0)\n",
      "Requirement already satisfied: opt-einsum>=2.3.2 in c:\\users\\dell\\anaconda3\\lib\\site-packages (from tensorflow-intel==2.12.0->tensorflow) (3.3.0)\n",
      "Requirement already satisfied: tensorflow-io-gcs-filesystem>=0.23.1 in c:\\users\\dell\\anaconda3\\lib\\site-packages (from tensorflow-intel==2.12.0->tensorflow) (0.31.0)\n",
      "Requirement already satisfied: setuptools in c:\\users\\dell\\anaconda3\\lib\\site-packages (from tensorflow-intel==2.12.0->tensorflow) (61.2.0)\n",
      "Requirement already satisfied: h5py>=2.9.0 in c:\\users\\dell\\anaconda3\\lib\\site-packages (from tensorflow-intel==2.12.0->tensorflow) (3.6.0)\n",
      "Requirement already satisfied: typing-extensions>=3.6.6 in c:\\users\\dell\\anaconda3\\lib\\site-packages (from tensorflow-intel==2.12.0->tensorflow) (4.8.0)\n",
      "Requirement already satisfied: tensorboard<2.13,>=2.12 in c:\\users\\dell\\anaconda3\\lib\\site-packages (from tensorflow-intel==2.12.0->tensorflow) (2.12.1)\n",
      "Requirement already satisfied: keras<2.13,>=2.12.0 in c:\\users\\dell\\anaconda3\\lib\\site-packages (from tensorflow-intel==2.12.0->tensorflow) (2.12.0)\n",
      "Requirement already satisfied: protobuf!=4.21.0,!=4.21.1,!=4.21.2,!=4.21.3,!=4.21.4,!=4.21.5,<5.0.0dev,>=3.20.3 in c:\\users\\dell\\anaconda3\\lib\\site-packages (from tensorflow-intel==2.12.0->tensorflow) (4.22.1)\n",
      "Requirement already satisfied: astunparse>=1.6.0 in c:\\users\\dell\\anaconda3\\lib\\site-packages (from tensorflow-intel==2.12.0->tensorflow) (1.6.3)\n",
      "Requirement already satisfied: termcolor>=1.1.0 in c:\\users\\dell\\anaconda3\\lib\\site-packages (from tensorflow-intel==2.12.0->tensorflow) (2.2.0)\n",
      "Requirement already satisfied: packaging in c:\\users\\dell\\anaconda3\\lib\\site-packages (from tensorflow-intel==2.12.0->tensorflow) (21.3)\n",
      "Requirement already satisfied: grpcio<2.0,>=1.24.3 in c:\\users\\dell\\anaconda3\\lib\\site-packages (from tensorflow-intel==2.12.0->tensorflow) (1.53.0)\n",
      "Requirement already satisfied: absl-py>=1.0.0 in c:\\users\\dell\\anaconda3\\lib\\site-packages (from tensorflow-intel==2.12.0->tensorflow) (1.4.0)\n",
      "Requirement already satisfied: six>=1.12.0 in c:\\users\\dell\\anaconda3\\lib\\site-packages (from tensorflow-intel==2.12.0->tensorflow) (1.16.0)\n",
      "Requirement already satisfied: numpy<1.24,>=1.22 in c:\\users\\dell\\anaconda3\\lib\\site-packages (from tensorflow-intel==2.12.0->tensorflow) (1.22.4)\n",
      "Requirement already satisfied: jax>=0.3.15 in c:\\users\\dell\\anaconda3\\lib\\site-packages (from tensorflow-intel==2.12.0->tensorflow) (0.4.8)\n",
      "Requirement already satisfied: google-pasta>=0.1.1 in c:\\users\\dell\\anaconda3\\lib\\site-packages (from tensorflow-intel==2.12.0->tensorflow) (0.2.0)\n",
      "Collecting gast<=0.4.0,>=0.2.1\n",
      "  Using cached gast-0.4.0-py3-none-any.whl (9.8 kB)\n",
      "Requirement already satisfied: libclang>=13.0.0 in c:\\users\\dell\\anaconda3\\lib\\site-packages (from tensorflow-intel==2.12.0->tensorflow) (16.0.0)\n",
      "Requirement already satisfied: flatbuffers>=2.0 in c:\\users\\dell\\anaconda3\\lib\\site-packages (from tensorflow-intel==2.12.0->tensorflow) (23.3.3)\n",
      "Requirement already satisfied: wrapt<1.15,>=1.11.0 in c:\\users\\dell\\anaconda3\\lib\\site-packages (from tensorflow-intel==2.12.0->tensorflow) (1.12.1)\n",
      "Requirement already satisfied: tensorflow-estimator<2.13,>=2.12.0 in c:\\users\\dell\\anaconda3\\lib\\site-packages (from tensorflow-intel==2.12.0->tensorflow) (2.12.0)\n",
      "Requirement already satisfied: wheel<1.0,>=0.23.0 in c:\\users\\dell\\anaconda3\\lib\\site-packages (from astunparse>=1.6.0->tensorflow-intel==2.12.0->tensorflow) (0.37.1)\n",
      "Requirement already satisfied: scipy>=1.7 in c:\\users\\dell\\anaconda3\\lib\\site-packages (from jax>=0.3.15->tensorflow-intel==2.12.0->tensorflow) (1.7.3)\n",
      "Requirement already satisfied: ml-dtypes>=0.0.3 in c:\\users\\dell\\anaconda3\\lib\\site-packages (from jax>=0.3.15->tensorflow-intel==2.12.0->tensorflow) (0.0.4)\n",
      "Requirement already satisfied: tensorboard-data-server<0.8.0,>=0.7.0 in c:\\users\\dell\\anaconda3\\lib\\site-packages (from tensorboard<2.13,>=2.12->tensorflow-intel==2.12.0->tensorflow) (0.7.0)\n",
      "Requirement already satisfied: google-auth-oauthlib<1.1,>=0.5 in c:\\users\\dell\\anaconda3\\lib\\site-packages (from tensorboard<2.13,>=2.12->tensorflow-intel==2.12.0->tensorflow) (1.0.0)\n",
      "Requirement already satisfied: markdown>=2.6.8 in c:\\users\\dell\\anaconda3\\lib\\site-packages (from tensorboard<2.13,>=2.12->tensorflow-intel==2.12.0->tensorflow) (3.3.4)\n",
      "Requirement already satisfied: tensorboard-plugin-wit>=1.6.0 in c:\\users\\dell\\anaconda3\\lib\\site-packages (from tensorboard<2.13,>=2.12->tensorflow-intel==2.12.0->tensorflow) (1.8.1)\n",
      "Requirement already satisfied: google-auth<3,>=1.6.3 in c:\\users\\dell\\anaconda3\\lib\\site-packages (from tensorboard<2.13,>=2.12->tensorflow-intel==2.12.0->tensorflow) (2.17.2)\n",
      "Requirement already satisfied: werkzeug>=1.0.1 in c:\\users\\dell\\anaconda3\\lib\\site-packages (from tensorboard<2.13,>=2.12->tensorflow-intel==2.12.0->tensorflow) (2.0.3)\n",
      "Requirement already satisfied: requests<3,>=2.21.0 in c:\\users\\dell\\anaconda3\\lib\\site-packages (from tensorboard<2.13,>=2.12->tensorflow-intel==2.12.0->tensorflow) (2.27.1)\n",
      "Requirement already satisfied: cachetools<6.0,>=2.0.0 in c:\\users\\dell\\anaconda3\\lib\\site-packages (from google-auth<3,>=1.6.3->tensorboard<2.13,>=2.12->tensorflow-intel==2.12.0->tensorflow) (4.2.2)\n",
      "Requirement already satisfied: rsa<5,>=3.1.4 in c:\\users\\dell\\anaconda3\\lib\\site-packages (from google-auth<3,>=1.6.3->tensorboard<2.13,>=2.12->tensorflow-intel==2.12.0->tensorflow) (4.7.2)\n",
      "Requirement already satisfied: pyasn1-modules>=0.2.1 in c:\\users\\dell\\anaconda3\\lib\\site-packages (from google-auth<3,>=1.6.3->tensorboard<2.13,>=2.12->tensorflow-intel==2.12.0->tensorflow) (0.2.8)\n",
      "Requirement already satisfied: requests-oauthlib>=0.7.0 in c:\\users\\dell\\anaconda3\\lib\\site-packages (from google-auth-oauthlib<1.1,>=0.5->tensorboard<2.13,>=2.12->tensorflow-intel==2.12.0->tensorflow) (1.3.1)\n",
      "Requirement already satisfied: pyasn1<0.5.0,>=0.4.6 in c:\\users\\dell\\anaconda3\\lib\\site-packages (from pyasn1-modules>=0.2.1->google-auth<3,>=1.6.3->tensorboard<2.13,>=2.12->tensorflow-intel==2.12.0->tensorflow) (0.4.8)\n",
      "Requirement already satisfied: idna<4,>=2.5 in c:\\users\\dell\\anaconda3\\lib\\site-packages (from requests<3,>=2.21.0->tensorboard<2.13,>=2.12->tensorflow-intel==2.12.0->tensorflow) (3.3)\n",
      "Requirement already satisfied: urllib3<1.27,>=1.21.1 in c:\\users\\dell\\anaconda3\\lib\\site-packages (from requests<3,>=2.21.0->tensorboard<2.13,>=2.12->tensorflow-intel==2.12.0->tensorflow) (1.26.9)\n",
      "Requirement already satisfied: charset-normalizer~=2.0.0 in c:\\users\\dell\\anaconda3\\lib\\site-packages (from requests<3,>=2.21.0->tensorboard<2.13,>=2.12->tensorflow-intel==2.12.0->tensorflow) (2.0.4)\n",
      "Requirement already satisfied: certifi>=2017.4.17 in c:\\users\\dell\\anaconda3\\lib\\site-packages (from requests<3,>=2.21.0->tensorboard<2.13,>=2.12->tensorflow-intel==2.12.0->tensorflow) (2023.7.22)\n",
      "Requirement already satisfied: oauthlib>=3.0.0 in c:\\users\\dell\\anaconda3\\lib\\site-packages (from requests-oauthlib>=0.7.0->google-auth-oauthlib<1.1,>=0.5->tensorboard<2.13,>=2.12->tensorflow-intel==2.12.0->tensorflow) (3.2.2)\n",
      "Requirement already satisfied: pyparsing!=3.0.5,>=2.0.2 in c:\\users\\dell\\anaconda3\\lib\\site-packages (from packaging->tensorflow-intel==2.12.0->tensorflow) (3.0.4)\n",
      "Installing collected packages: gast\n",
      "  Attempting uninstall: gast\n",
      "    Found existing installation: gast 0.5.3\n",
      "    Uninstalling gast-0.5.3:\n",
      "      Successfully uninstalled gast-0.5.3\n",
      "Successfully installed gast-0.4.0\n",
      "Note: you may need to restart the kernel to use updated packages.\n"
     ]
    }
   ],
   "source": [
    "pip install tensorflow"
   ]
  },
  {
   "cell_type": "code",
   "execution_count": 43,
   "metadata": {},
   "outputs": [
    {
     "name": "stdout",
     "output_type": "stream",
     "text": [
      "Requirement already satisfied: scikit-learn in c:\\users\\dell\\anaconda3\\lib\\site-packages (1.0.2)\n",
      "Requirement already satisfied: joblib>=0.11 in c:\\users\\dell\\anaconda3\\lib\\site-packages (from scikit-learn) (1.1.0)\n",
      "Requirement already satisfied: threadpoolctl>=2.0.0 in c:\\users\\dell\\anaconda3\\lib\\site-packages (from scikit-learn) (2.2.0)\n",
      "Requirement already satisfied: numpy>=1.14.6 in c:\\users\\dell\\anaconda3\\lib\\site-packages (from scikit-learn) (1.22.4)\n",
      "Requirement already satisfied: scipy>=1.1.0 in c:\\users\\dell\\anaconda3\\lib\\site-packages (from scikit-learn) (1.7.3)\n",
      "Note: you may need to restart the kernel to use updated packages.\n"
     ]
    }
   ],
   "source": [
    "pip install scikit-learn"
   ]
  },
  {
   "cell_type": "code",
   "execution_count": 44,
   "metadata": {},
   "outputs": [
    {
     "name": "stdout",
     "output_type": "stream",
     "text": [
      "Requirement already satisfied: pandas in c:\\users\\dell\\anaconda3\\lib\\site-packages (1.4.2)\n",
      "Requirement already satisfied: python-dateutil>=2.8.1 in c:\\users\\dell\\anaconda3\\lib\\site-packages (from pandas) (2.8.2)\n",
      "Requirement already satisfied: numpy>=1.18.5 in c:\\users\\dell\\anaconda3\\lib\\site-packages (from pandas) (1.22.4)\n",
      "Requirement already satisfied: pytz>=2020.1 in c:\\users\\dell\\anaconda3\\lib\\site-packages (from pandas) (2021.3)\n",
      "Requirement already satisfied: six>=1.5 in c:\\users\\dell\\anaconda3\\lib\\site-packages (from python-dateutil>=2.8.1->pandas) (1.16.0)\n",
      "Note: you may need to restart the kernel to use updated packages.\n"
     ]
    }
   ],
   "source": [
    "pip install pandas"
   ]
  },
  {
   "cell_type": "code",
   "execution_count": 45,
   "metadata": {},
   "outputs": [],
   "source": [
    "import pandas as pd\n",
    "import numpy as np\n",
    "import tensorflow as tf\n",
    "from sklearn.model_selection import train_test_split\n",
    "from sklearn.preprocessing import StandardScaler\n",
    "from sklearn.metrics import classification_report"
   ]
  },
  {
   "cell_type": "code",
   "execution_count": 46,
   "metadata": {},
   "outputs": [],
   "source": [
    "dataset_path = \"C:\\\\Users\\\\Dell\\\\Downloads\\\\archive (1)\\\\Trojan_Detection.csv\"\n",
    "df = pd.read_csv(dataset_path, sep=',', skipinitialspace=True)\n",
    "df.drop(columns=df.columns[0], axis=1, inplace=True)"
   ]
  },
  {
   "cell_type": "code",
   "execution_count": 47,
   "metadata": {},
   "outputs": [],
   "source": [
    "df = df.dropna()\n",
    "df = df.replace(\"Trojan\", 1)\n",
    "df = df.replace(\"Benign\", 0)"
   ]
  },
  {
   "cell_type": "code",
   "execution_count": 48,
   "metadata": {},
   "outputs": [],
   "source": [
    "from sklearn.preprocessing import LabelEncoder\n",
    "number = LabelEncoder()\n",
    "df[\"Flow ID\"] = number.fit_transform(df[\"Flow ID\"])\n",
    "df[\"Source IP\"] = number.fit_transform(df[\"Source IP\"])\n",
    "df[\"Destination IP\"] = number.fit_transform(df[\"Destination IP\"])\n",
    "df[\"Timestamp\"] = number.fit_transform(df[\"Timestamp\"])"
   ]
  },
  {
   "cell_type": "code",
   "execution_count": 49,
   "metadata": {},
   "outputs": [],
   "source": [
    "X = df.drop(\"Class\", axis=1)\n",
    "y = df[\"Class\"]"
   ]
  },
  {
   "cell_type": "code",
   "execution_count": 50,
   "metadata": {},
   "outputs": [],
   "source": [
    "X_train, X_test, y_train, y_test = train_test_split(X, y, test_size=0.2, random_state=0)"
   ]
  },
  {
   "cell_type": "code",
   "execution_count": 51,
   "metadata": {},
   "outputs": [],
   "source": [
    "scaler = StandardScaler()\n",
    "X_train = scaler.fit_transform(X_train)\n",
    "X_test = scaler.transform(X_test)"
   ]
  },
  {
   "cell_type": "code",
   "execution_count": 52,
   "metadata": {},
   "outputs": [],
   "source": [
    "model = tf.keras.Sequential([\n",
    "    tf.keras.layers.Dense(64, activation='relu', input_shape=(X_train.shape[1],)),\n",
    "    tf.keras.layers.Dense(32, activation='relu'),\n",
    "    tf.keras.layers.Dense(1, activation='sigmoid')  # Output layer with sigmoid activation for binary classification\n",
    "])"
   ]
  },
  {
   "cell_type": "code",
   "execution_count": 53,
   "metadata": {},
   "outputs": [],
   "source": [
    "model.compile(optimizer='adam', loss='binary_crossentropy', metrics=['accuracy'])"
   ]
  },
  {
   "cell_type": "code",
   "execution_count": 54,
   "metadata": {},
   "outputs": [
    {
     "name": "stdout",
     "output_type": "stream",
     "text": [
      "Epoch 1/10\n",
      "1775/1775 [==============================] - 5s 3ms/step - loss: 0.1936 - accuracy: 0.9399 - val_loss: 0.1116 - val_accuracy: 0.9695\n",
      "Epoch 2/10\n",
      "1775/1775 [==============================] - 5s 3ms/step - loss: 0.1020 - accuracy: 0.9703 - val_loss: 0.1007 - val_accuracy: 0.9698\n",
      "Epoch 3/10\n",
      "1775/1775 [==============================] - 4s 2ms/step - loss: 0.0829 - accuracy: 0.9747 - val_loss: 0.0738 - val_accuracy: 0.9787\n",
      "Epoch 4/10\n",
      "1775/1775 [==============================] - 4s 2ms/step - loss: 0.0687 - accuracy: 0.9785 - val_loss: 0.0708 - val_accuracy: 0.9767\n",
      "Epoch 5/10\n",
      "1775/1775 [==============================] - 5s 3ms/step - loss: 0.0621 - accuracy: 0.9798 - val_loss: 0.0583 - val_accuracy: 0.9815\n",
      "Epoch 6/10\n",
      "1775/1775 [==============================] - 5s 3ms/step - loss: 0.0561 - accuracy: 0.9817 - val_loss: 0.0562 - val_accuracy: 0.9812\n",
      "Epoch 7/10\n",
      "1775/1775 [==============================] - 4s 2ms/step - loss: 0.0525 - accuracy: 0.9830 - val_loss: 0.0524 - val_accuracy: 0.9855\n",
      "Epoch 8/10\n",
      "1775/1775 [==============================] - 4s 2ms/step - loss: 0.0515 - accuracy: 0.9836 - val_loss: 0.0493 - val_accuracy: 0.9850\n",
      "Epoch 9/10\n",
      "1775/1775 [==============================] - 5s 3ms/step - loss: 0.0493 - accuracy: 0.9842 - val_loss: 0.0620 - val_accuracy: 0.9811\n",
      "Epoch 10/10\n",
      "1775/1775 [==============================] - 4s 2ms/step - loss: 0.0481 - accuracy: 0.9846 - val_loss: 0.0479 - val_accuracy: 0.9835\n"
     ]
    },
    {
     "data": {
      "text/plain": [
       "<keras.callbacks.History at 0x240a2587430>"
      ]
     },
     "execution_count": 54,
     "metadata": {},
     "output_type": "execute_result"
    }
   ],
   "source": [
    "model.fit(X_train, y_train, epochs=10, batch_size=64, validation_split=0.2)"
   ]
  },
  {
   "cell_type": "code",
   "execution_count": 55,
   "metadata": {},
   "outputs": [
    {
     "name": "stdout",
     "output_type": "stream",
     "text": [
      "1110/1110 [==============================] - 2s 1ms/step - loss: 0.0492 - accuracy: 0.9845\n",
      "Test loss: 0.0492, Test accuracy: 0.9845\n"
     ]
    }
   ],
   "source": [
    "loss, accuracy = model.evaluate(X_test, y_test)\n",
    "print(f\"Test loss: {loss:.4f}, Test accuracy: {accuracy:.4f}\")"
   ]
  },
  {
   "cell_type": "code",
   "execution_count": 56,
   "metadata": {},
   "outputs": [
    {
     "name": "stdout",
     "output_type": "stream",
     "text": [
      "1110/1110 [==============================] - 1s 1ms/step\n"
     ]
    }
   ],
   "source": [
    "y_pred = (model.predict(X_test) > 0.5).astype(int)"
   ]
  },
  {
   "cell_type": "code",
   "execution_count": 57,
   "metadata": {},
   "outputs": [
    {
     "name": "stdout",
     "output_type": "stream",
     "text": [
      "              precision    recall  f1-score   support\n",
      "\n",
      "           0       0.98      0.98      0.98     17282\n",
      "           1       0.99      0.98      0.98     18215\n",
      "\n",
      "    accuracy                           0.98     35497\n",
      "   macro avg       0.98      0.98      0.98     35497\n",
      "weighted avg       0.98      0.98      0.98     35497\n",
      "\n"
     ]
    }
   ],
   "source": [
    "# Print classification report\n",
    "print(classification_report(y_test, y_pred))"
   ]
  },
  {
   "cell_type": "markdown",
   "metadata": {},
   "source": [
    "# Hybrid model (StackingClassifier with RandomForestClassifier and GradientBoostingClassifier as base models, and LogisticRegression as the meta-model)"
   ]
  },
  {
   "cell_type": "markdown",
   "metadata": {},
   "source": [
    "A Stacking Classifier is an ensemble learning technique that combines the predictions of multiple models. In this case, it uses RandomForestClassifier and GradientBoostingClassifier as base models, and LogisticRegression as the meta-model to make final predictions. This approach can often lead to improved predictive accuracy compared to using individual models on their own."
   ]
  },
  {
   "cell_type": "code",
   "execution_count": 1,
   "metadata": {},
   "outputs": [],
   "source": [
    "# Import necessary libraries\n",
    "from sklearn.ensemble import RandomForestClassifier\n",
    "from sklearn.ensemble import GradientBoostingClassifier\n",
    "from sklearn.ensemble import StackingClassifier\n",
    "from sklearn.linear_model import LogisticRegression\n",
    "from sklearn.metrics import classification_report\n",
    "from sklearn.model_selection import train_test_split\n",
    "from sklearn.preprocessing import StandardScaler\n",
    "import pandas as pd"
   ]
  },
  {
   "cell_type": "code",
   "execution_count": 2,
   "metadata": {},
   "outputs": [],
   "source": [
    "# Load and preprocess the dataset (assuming df, X, y, scaler are not defined yet)\n",
    "dataset_path = \"C:\\\\Users\\\\Dell\\\\Downloads\\\\archive (1)\\\\Trojan_Detection.csv\"\n",
    "df = pd.read_csv(dataset_path, sep=',', skipinitialspace=True)\n",
    "df.drop(columns=df.columns[0], axis=1, inplace=True)\n",
    "df = df.dropna()\n",
    "df = df.replace(\"Trojan\", 1)\n",
    "df = df.replace(\"Benign\", 0)"
   ]
  },
  {
   "cell_type": "code",
   "execution_count": 3,
   "metadata": {},
   "outputs": [],
   "source": [
    "from sklearn.preprocessing import LabelEncoder\n",
    "number = LabelEncoder()\n",
    "df[\"Flow ID\"] = number.fit_transform(df[\"Flow ID\"])\n",
    "df[\"Source IP\"] = number.fit_transform(df[\"Source IP\"])\n",
    "df[\"Destination IP\"] = number.fit_transform(df[\"Destination IP\"])\n",
    "df[\"Timestamp\"] = number.fit_transform(df[\"Timestamp\"])"
   ]
  },
  {
   "cell_type": "code",
   "execution_count": 4,
   "metadata": {},
   "outputs": [],
   "source": [
    "X = df.drop(\"Class\", axis=1)\n",
    "y = df[\"Class\"]\n",
    "X_train, X_test, y_train, y_test = train_test_split(X, y, test_size=0.2, random_state=0)\n",
    "scaler = StandardScaler()\n",
    "X_train = scaler.fit_transform(X_train)\n",
    "X_test = scaler.transform(X_test)"
   ]
  },
  {
   "cell_type": "code",
   "execution_count": 5,
   "metadata": {},
   "outputs": [],
   "source": [
    "# Define base models\n",
    "base_models = [\n",
    "    ('random_forest', RandomForestClassifier(n_estimators=100)),\n",
    "    ('gradient_boosting', GradientBoostingClassifier())\n",
    "]"
   ]
  },
  {
   "cell_type": "code",
   "execution_count": 6,
   "metadata": {},
   "outputs": [],
   "source": [
    "# Define meta-model\n",
    "meta_model = LogisticRegression()"
   ]
  },
  {
   "cell_type": "code",
   "execution_count": 7,
   "metadata": {},
   "outputs": [],
   "source": [
    "# Create stacking classifier\n",
    "stacked_model = StackingClassifier(estimators=base_models, final_estimator=meta_model)"
   ]
  },
  {
   "cell_type": "code",
   "execution_count": null,
   "metadata": {},
   "outputs": [],
   "source": [
    "# Train the model\n",
    "stacked_model.fit(X_train, y_train)"
   ]
  },
  {
   "cell_type": "code",
   "execution_count": 12,
   "metadata": {},
   "outputs": [],
   "source": [
    "# Make predictions\n",
    "y_pred = stacked_model.predict(X_test)"
   ]
  },
  {
   "cell_type": "code",
   "execution_count": 13,
   "metadata": {},
   "outputs": [
    {
     "name": "stdout",
     "output_type": "stream",
     "text": [
      "Accuracy: 0.9999\n",
      "              precision    recall  f1-score   support\n",
      "\n",
      "           0       1.00      1.00      1.00     17282\n",
      "           1       1.00      1.00      1.00     18215\n",
      "\n",
      "    accuracy                           1.00     35497\n",
      "   macro avg       1.00      1.00      1.00     35497\n",
      "weighted avg       1.00      1.00      1.00     35497\n",
      "\n"
     ]
    }
   ],
   "source": [
    "# Calculate accuracy\n",
    "accuracy = (y_pred == y_test).mean()\n",
    "print(f\"Accuracy: {accuracy:.4f}\")\n",
    "\n",
    "# Print classification report\n",
    "print(classification_report(y_test, y_pred))"
   ]
  },
  {
   "cell_type": "markdown",
   "metadata": {},
   "source": [
    "# Hybrid model ( Voting Classifier with a combination of  RandomForestClassifier, GradientBoostingClassifier, AdaBoostClassifier and SVC)"
   ]
  },
  {
   "cell_type": "markdown",
   "metadata": {},
   "source": [
    " if you have a Voting Classifier with the models you mentioned, it will take the predictions from each of the four models (RandomForestClassifier, GradientBoostingClassifier, AdaBoostClassifier, and SVC) and use a voting mechanism to determine the final prediction."
   ]
  },
  {
   "cell_type": "code",
   "execution_count": 14,
   "metadata": {},
   "outputs": [],
   "source": [
    "# Import necessary libraries\n",
    "from sklearn.ensemble import RandomForestClassifier, GradientBoostingClassifier, AdaBoostClassifier, VotingClassifier\n",
    "from sklearn.svm import SVC\n",
    "from sklearn.metrics import classification_report\n",
    "from sklearn.model_selection import train_test_split\n",
    "from sklearn.preprocessing import StandardScaler\n",
    "import pandas as pd"
   ]
  },
  {
   "cell_type": "code",
   "execution_count": 15,
   "metadata": {},
   "outputs": [],
   "source": [
    "# Load and preprocess the dataset (assuming df, X, y, scaler are not defined yet)\n",
    "dataset_path = \"C:\\\\Users\\\\Dell\\\\Downloads\\\\archive (1)\\\\Trojan_Detection.csv\"\n",
    "df = pd.read_csv(dataset_path, sep=',', skipinitialspace=True)\n",
    "df.drop(columns=df.columns[0], axis=1, inplace=True)\n",
    "df = df.dropna()\n",
    "df = df.replace(\"Trojan\", 1)\n",
    "df = df.replace(\"Benign\", 0)"
   ]
  },
  {
   "cell_type": "code",
   "execution_count": 16,
   "metadata": {},
   "outputs": [],
   "source": [
    "from sklearn.preprocessing import LabelEncoder\n",
    "number = LabelEncoder()\n",
    "df[\"Flow ID\"] = number.fit_transform(df[\"Flow ID\"])\n",
    "df[\"Source IP\"] = number.fit_transform(df[\"Source IP\"])\n",
    "df[\"Destination IP\"] = number.fit_transform(df[\"Destination IP\"])\n",
    "df[\"Timestamp\"] = number.fit_transform(df[\"Timestamp\"])"
   ]
  },
  {
   "cell_type": "code",
   "execution_count": 17,
   "metadata": {},
   "outputs": [],
   "source": [
    "X = df.drop(\"Class\", axis=1)\n",
    "y = df[\"Class\"]\n",
    "X_train, X_test, y_train, y_test = train_test_split(X, y, test_size=0.2, random_state=0)\n",
    "scaler = StandardScaler()\n",
    "X_train = scaler.fit_transform(X_train)\n",
    "X_test = scaler.transform(X_test)"
   ]
  },
  {
   "cell_type": "code",
   "execution_count": 18,
   "metadata": {},
   "outputs": [],
   "source": [
    "# Define base models\n",
    "base_models = [\n",
    "    ('random_forest', RandomForestClassifier(n_estimators=100)),\n",
    "    ('gradient_boosting', GradientBoostingClassifier()),\n",
    "    ('adaboost', AdaBoostClassifier()),\n",
    "    ('svm', SVC(probability=True))  # Note: probability=True for voting with soft voting\n",
    "]"
   ]
  },
  {
   "cell_type": "code",
   "execution_count": 19,
   "metadata": {},
   "outputs": [],
   "source": [
    "# Create voting classifier\n",
    "voting_model = VotingClassifier(estimators=base_models, voting='soft')"
   ]
  },
  {
   "cell_type": "code",
   "execution_count": 20,
   "metadata": {},
   "outputs": [
    {
     "data": {
      "text/html": [
       "<style>#sk-container-id-2 {color: black;background-color: white;}#sk-container-id-2 pre{padding: 0;}#sk-container-id-2 div.sk-toggleable {background-color: white;}#sk-container-id-2 label.sk-toggleable__label {cursor: pointer;display: block;width: 100%;margin-bottom: 0;padding: 0.3em;box-sizing: border-box;text-align: center;}#sk-container-id-2 label.sk-toggleable__label-arrow:before {content: \"▸\";float: left;margin-right: 0.25em;color: #696969;}#sk-container-id-2 label.sk-toggleable__label-arrow:hover:before {color: black;}#sk-container-id-2 div.sk-estimator:hover label.sk-toggleable__label-arrow:before {color: black;}#sk-container-id-2 div.sk-toggleable__content {max-height: 0;max-width: 0;overflow: hidden;text-align: left;background-color: #f0f8ff;}#sk-container-id-2 div.sk-toggleable__content pre {margin: 0.2em;color: black;border-radius: 0.25em;background-color: #f0f8ff;}#sk-container-id-2 input.sk-toggleable__control:checked~div.sk-toggleable__content {max-height: 200px;max-width: 100%;overflow: auto;}#sk-container-id-2 input.sk-toggleable__control:checked~label.sk-toggleable__label-arrow:before {content: \"▾\";}#sk-container-id-2 div.sk-estimator input.sk-toggleable__control:checked~label.sk-toggleable__label {background-color: #d4ebff;}#sk-container-id-2 div.sk-label input.sk-toggleable__control:checked~label.sk-toggleable__label {background-color: #d4ebff;}#sk-container-id-2 input.sk-hidden--visually {border: 0;clip: rect(1px 1px 1px 1px);clip: rect(1px, 1px, 1px, 1px);height: 1px;margin: -1px;overflow: hidden;padding: 0;position: absolute;width: 1px;}#sk-container-id-2 div.sk-estimator {font-family: monospace;background-color: #f0f8ff;border: 1px dotted black;border-radius: 0.25em;box-sizing: border-box;margin-bottom: 0.5em;}#sk-container-id-2 div.sk-estimator:hover {background-color: #d4ebff;}#sk-container-id-2 div.sk-parallel-item::after {content: \"\";width: 100%;border-bottom: 1px solid gray;flex-grow: 1;}#sk-container-id-2 div.sk-label:hover label.sk-toggleable__label {background-color: #d4ebff;}#sk-container-id-2 div.sk-serial::before {content: \"\";position: absolute;border-left: 1px solid gray;box-sizing: border-box;top: 0;bottom: 0;left: 50%;z-index: 0;}#sk-container-id-2 div.sk-serial {display: flex;flex-direction: column;align-items: center;background-color: white;padding-right: 0.2em;padding-left: 0.2em;position: relative;}#sk-container-id-2 div.sk-item {position: relative;z-index: 1;}#sk-container-id-2 div.sk-parallel {display: flex;align-items: stretch;justify-content: center;background-color: white;position: relative;}#sk-container-id-2 div.sk-item::before, #sk-container-id-2 div.sk-parallel-item::before {content: \"\";position: absolute;border-left: 1px solid gray;box-sizing: border-box;top: 0;bottom: 0;left: 50%;z-index: -1;}#sk-container-id-2 div.sk-parallel-item {display: flex;flex-direction: column;z-index: 1;position: relative;background-color: white;}#sk-container-id-2 div.sk-parallel-item:first-child::after {align-self: flex-end;width: 50%;}#sk-container-id-2 div.sk-parallel-item:last-child::after {align-self: flex-start;width: 50%;}#sk-container-id-2 div.sk-parallel-item:only-child::after {width: 0;}#sk-container-id-2 div.sk-dashed-wrapped {border: 1px dashed gray;margin: 0 0.4em 0.5em 0.4em;box-sizing: border-box;padding-bottom: 0.4em;background-color: white;}#sk-container-id-2 div.sk-label label {font-family: monospace;font-weight: bold;display: inline-block;line-height: 1.2em;}#sk-container-id-2 div.sk-label-container {text-align: center;}#sk-container-id-2 div.sk-container {/* jupyter's `normalize.less` sets `[hidden] { display: none; }` but bootstrap.min.css set `[hidden] { display: none !important; }` so we also need the `!important` here to be able to override the default hidden behavior on the sphinx rendered scikit-learn.org. See: https://github.com/scikit-learn/scikit-learn/issues/21755 */display: inline-block !important;position: relative;}#sk-container-id-2 div.sk-text-repr-fallback {display: none;}</style><div id=\"sk-container-id-2\" class=\"sk-top-container\"><div class=\"sk-text-repr-fallback\"><pre>VotingClassifier(estimators=[(&#x27;random_forest&#x27;, RandomForestClassifier()),\n",
       "                             (&#x27;gradient_boosting&#x27;,\n",
       "                              GradientBoostingClassifier()),\n",
       "                             (&#x27;adaboost&#x27;, AdaBoostClassifier()),\n",
       "                             (&#x27;svm&#x27;, SVC(probability=True))],\n",
       "                 voting=&#x27;soft&#x27;)</pre><b>In a Jupyter environment, please rerun this cell to show the HTML representation or trust the notebook. <br />On GitHub, the HTML representation is unable to render, please try loading this page with nbviewer.org.</b></div><div class=\"sk-container\" hidden><div class=\"sk-item sk-dashed-wrapped\"><div class=\"sk-label-container\"><div class=\"sk-label sk-toggleable\"><input class=\"sk-toggleable__control sk-hidden--visually\" id=\"sk-estimator-id-5\" type=\"checkbox\" ><label for=\"sk-estimator-id-5\" class=\"sk-toggleable__label sk-toggleable__label-arrow\">VotingClassifier</label><div class=\"sk-toggleable__content\"><pre>VotingClassifier(estimators=[(&#x27;random_forest&#x27;, RandomForestClassifier()),\n",
       "                             (&#x27;gradient_boosting&#x27;,\n",
       "                              GradientBoostingClassifier()),\n",
       "                             (&#x27;adaboost&#x27;, AdaBoostClassifier()),\n",
       "                             (&#x27;svm&#x27;, SVC(probability=True))],\n",
       "                 voting=&#x27;soft&#x27;)</pre></div></div></div><div class=\"sk-parallel\"><div class=\"sk-parallel-item\"><div class=\"sk-item\"><div class=\"sk-label-container\"><div class=\"sk-label sk-toggleable\"><label>random_forest</label></div></div><div class=\"sk-serial\"><div class=\"sk-item\"><div class=\"sk-estimator sk-toggleable\"><input class=\"sk-toggleable__control sk-hidden--visually\" id=\"sk-estimator-id-6\" type=\"checkbox\" ><label for=\"sk-estimator-id-6\" class=\"sk-toggleable__label sk-toggleable__label-arrow\">RandomForestClassifier</label><div class=\"sk-toggleable__content\"><pre>RandomForestClassifier()</pre></div></div></div></div></div></div><div class=\"sk-parallel-item\"><div class=\"sk-item\"><div class=\"sk-label-container\"><div class=\"sk-label sk-toggleable\"><label>gradient_boosting</label></div></div><div class=\"sk-serial\"><div class=\"sk-item\"><div class=\"sk-estimator sk-toggleable\"><input class=\"sk-toggleable__control sk-hidden--visually\" id=\"sk-estimator-id-7\" type=\"checkbox\" ><label for=\"sk-estimator-id-7\" class=\"sk-toggleable__label sk-toggleable__label-arrow\">GradientBoostingClassifier</label><div class=\"sk-toggleable__content\"><pre>GradientBoostingClassifier()</pre></div></div></div></div></div></div><div class=\"sk-parallel-item\"><div class=\"sk-item\"><div class=\"sk-label-container\"><div class=\"sk-label sk-toggleable\"><label>adaboost</label></div></div><div class=\"sk-serial\"><div class=\"sk-item\"><div class=\"sk-estimator sk-toggleable\"><input class=\"sk-toggleable__control sk-hidden--visually\" id=\"sk-estimator-id-8\" type=\"checkbox\" ><label for=\"sk-estimator-id-8\" class=\"sk-toggleable__label sk-toggleable__label-arrow\">AdaBoostClassifier</label><div class=\"sk-toggleable__content\"><pre>AdaBoostClassifier()</pre></div></div></div></div></div></div><div class=\"sk-parallel-item\"><div class=\"sk-item\"><div class=\"sk-label-container\"><div class=\"sk-label sk-toggleable\"><label>svm</label></div></div><div class=\"sk-serial\"><div class=\"sk-item\"><div class=\"sk-estimator sk-toggleable\"><input class=\"sk-toggleable__control sk-hidden--visually\" id=\"sk-estimator-id-9\" type=\"checkbox\" ><label for=\"sk-estimator-id-9\" class=\"sk-toggleable__label sk-toggleable__label-arrow\">SVC</label><div class=\"sk-toggleable__content\"><pre>SVC(probability=True)</pre></div></div></div></div></div></div></div></div></div></div>"
      ],
      "text/plain": [
       "VotingClassifier(estimators=[('random_forest', RandomForestClassifier()),\n",
       "                             ('gradient_boosting',\n",
       "                              GradientBoostingClassifier()),\n",
       "                             ('adaboost', AdaBoostClassifier()),\n",
       "                             ('svm', SVC(probability=True))],\n",
       "                 voting='soft')"
      ]
     },
     "execution_count": 20,
     "metadata": {},
     "output_type": "execute_result"
    }
   ],
   "source": [
    "# Train the model\n",
    "voting_model.fit(X_train, y_train)"
   ]
  },
  {
   "cell_type": "code",
   "execution_count": 21,
   "metadata": {},
   "outputs": [],
   "source": [
    "# Make predictions\n",
    "y_pred = voting_model.predict(X_test)"
   ]
  },
  {
   "cell_type": "code",
   "execution_count": 22,
   "metadata": {},
   "outputs": [
    {
     "name": "stdout",
     "output_type": "stream",
     "text": [
      "Accuracy: 0.9986\n",
      "              precision    recall  f1-score   support\n",
      "\n",
      "           0       1.00      1.00      1.00     17282\n",
      "           1       1.00      1.00      1.00     18215\n",
      "\n",
      "    accuracy                           1.00     35497\n",
      "   macro avg       1.00      1.00      1.00     35497\n",
      "weighted avg       1.00      1.00      1.00     35497\n",
      "\n"
     ]
    }
   ],
   "source": [
    "# Calculate accuracy\n",
    "accuracy = (y_pred == y_test).mean()\n",
    "print(f\"Accuracy: {accuracy:.4f}\")\n",
    "\n",
    "# Print classification report\n",
    "print(classification_report(y_test, y_pred))"
   ]
  },
  {
   "cell_type": "markdown",
   "metadata": {},
   "source": [
    "# Bagging Classifier with a Decision Tree as the base estimator for Trojan horse detection"
   ]
  },
  {
   "cell_type": "code",
   "execution_count": 10,
   "metadata": {},
   "outputs": [],
   "source": [
    "# Import necessary libraries\n",
    "from sklearn.ensemble import BaggingClassifier\n",
    "from sklearn.tree import DecisionTreeClassifier\n",
    "from sklearn.metrics import classification_report\n",
    "from sklearn.model_selection import train_test_split\n",
    "from sklearn.preprocessing import StandardScaler\n",
    "import pandas as pd"
   ]
  },
  {
   "cell_type": "code",
   "execution_count": 11,
   "metadata": {},
   "outputs": [],
   "source": [
    "# Load and preprocess the dataset (similar to your provided code)\n",
    "dataset_path = \"C:\\\\Users\\\\Dell\\\\Downloads\\\\archive (1)\\\\Trojan_Detection.csv\"\n",
    "df = pd.read_csv(dataset_path, sep=',', skipinitialspace=True)\n",
    "df.drop(columns=df.columns[0], axis=1, inplace=True)\n",
    "df = df.dropna()\n",
    "df = df.replace(\"Trojan\", 1)\n",
    "df = df.replace(\"Benign\", 0)"
   ]
  },
  {
   "cell_type": "code",
   "execution_count": 12,
   "metadata": {},
   "outputs": [],
   "source": [
    "from sklearn.preprocessing import LabelEncoder\n",
    "number = LabelEncoder()\n",
    "df[\"Flow ID\"] = number.fit_transform(df[\"Flow ID\"])\n",
    "df[\"Source IP\"] = number.fit_transform(df[\"Source IP\"])\n",
    "df[\"Destination IP\"] = number.fit_transform(df[\"Destination IP\"])\n",
    "df[\"Timestamp\"] = number.fit_transform(df[\"Timestamp\"])\n",
    "X = df.drop(\"Class\", axis=1)\n",
    "y = df[\"Class\"]"
   ]
  },
  {
   "cell_type": "code",
   "execution_count": 13,
   "metadata": {},
   "outputs": [],
   "source": [
    "X_train, X_test, y_train, y_test = train_test_split(X, y, test_size=0.2, random_state=0)\n",
    "scaler = StandardScaler()\n",
    "X_train = scaler.fit_transform(X_train)\n",
    "X_test = scaler.transform(X_test)"
   ]
  },
  {
   "cell_type": "code",
   "execution_count": 14,
   "metadata": {},
   "outputs": [],
   "source": [
    "# Define base model (Decision Tree in this case)\n",
    "base_model = DecisionTreeClassifier()\n"
   ]
  },
  {
   "cell_type": "code",
   "execution_count": 15,
   "metadata": {},
   "outputs": [
    {
     "data": {
      "text/html": [
       "<style>#sk-container-id-1 {color: black;background-color: white;}#sk-container-id-1 pre{padding: 0;}#sk-container-id-1 div.sk-toggleable {background-color: white;}#sk-container-id-1 label.sk-toggleable__label {cursor: pointer;display: block;width: 100%;margin-bottom: 0;padding: 0.3em;box-sizing: border-box;text-align: center;}#sk-container-id-1 label.sk-toggleable__label-arrow:before {content: \"▸\";float: left;margin-right: 0.25em;color: #696969;}#sk-container-id-1 label.sk-toggleable__label-arrow:hover:before {color: black;}#sk-container-id-1 div.sk-estimator:hover label.sk-toggleable__label-arrow:before {color: black;}#sk-container-id-1 div.sk-toggleable__content {max-height: 0;max-width: 0;overflow: hidden;text-align: left;background-color: #f0f8ff;}#sk-container-id-1 div.sk-toggleable__content pre {margin: 0.2em;color: black;border-radius: 0.25em;background-color: #f0f8ff;}#sk-container-id-1 input.sk-toggleable__control:checked~div.sk-toggleable__content {max-height: 200px;max-width: 100%;overflow: auto;}#sk-container-id-1 input.sk-toggleable__control:checked~label.sk-toggleable__label-arrow:before {content: \"▾\";}#sk-container-id-1 div.sk-estimator input.sk-toggleable__control:checked~label.sk-toggleable__label {background-color: #d4ebff;}#sk-container-id-1 div.sk-label input.sk-toggleable__control:checked~label.sk-toggleable__label {background-color: #d4ebff;}#sk-container-id-1 input.sk-hidden--visually {border: 0;clip: rect(1px 1px 1px 1px);clip: rect(1px, 1px, 1px, 1px);height: 1px;margin: -1px;overflow: hidden;padding: 0;position: absolute;width: 1px;}#sk-container-id-1 div.sk-estimator {font-family: monospace;background-color: #f0f8ff;border: 1px dotted black;border-radius: 0.25em;box-sizing: border-box;margin-bottom: 0.5em;}#sk-container-id-1 div.sk-estimator:hover {background-color: #d4ebff;}#sk-container-id-1 div.sk-parallel-item::after {content: \"\";width: 100%;border-bottom: 1px solid gray;flex-grow: 1;}#sk-container-id-1 div.sk-label:hover label.sk-toggleable__label {background-color: #d4ebff;}#sk-container-id-1 div.sk-serial::before {content: \"\";position: absolute;border-left: 1px solid gray;box-sizing: border-box;top: 0;bottom: 0;left: 50%;z-index: 0;}#sk-container-id-1 div.sk-serial {display: flex;flex-direction: column;align-items: center;background-color: white;padding-right: 0.2em;padding-left: 0.2em;position: relative;}#sk-container-id-1 div.sk-item {position: relative;z-index: 1;}#sk-container-id-1 div.sk-parallel {display: flex;align-items: stretch;justify-content: center;background-color: white;position: relative;}#sk-container-id-1 div.sk-item::before, #sk-container-id-1 div.sk-parallel-item::before {content: \"\";position: absolute;border-left: 1px solid gray;box-sizing: border-box;top: 0;bottom: 0;left: 50%;z-index: -1;}#sk-container-id-1 div.sk-parallel-item {display: flex;flex-direction: column;z-index: 1;position: relative;background-color: white;}#sk-container-id-1 div.sk-parallel-item:first-child::after {align-self: flex-end;width: 50%;}#sk-container-id-1 div.sk-parallel-item:last-child::after {align-self: flex-start;width: 50%;}#sk-container-id-1 div.sk-parallel-item:only-child::after {width: 0;}#sk-container-id-1 div.sk-dashed-wrapped {border: 1px dashed gray;margin: 0 0.4em 0.5em 0.4em;box-sizing: border-box;padding-bottom: 0.4em;background-color: white;}#sk-container-id-1 div.sk-label label {font-family: monospace;font-weight: bold;display: inline-block;line-height: 1.2em;}#sk-container-id-1 div.sk-label-container {text-align: center;}#sk-container-id-1 div.sk-container {/* jupyter's `normalize.less` sets `[hidden] { display: none; }` but bootstrap.min.css set `[hidden] { display: none !important; }` so we also need the `!important` here to be able to override the default hidden behavior on the sphinx rendered scikit-learn.org. See: https://github.com/scikit-learn/scikit-learn/issues/21755 */display: inline-block !important;position: relative;}#sk-container-id-1 div.sk-text-repr-fallback {display: none;}</style><div id=\"sk-container-id-1\" class=\"sk-top-container\"><div class=\"sk-text-repr-fallback\"><pre>BaggingClassifier(base_estimator=DecisionTreeClassifier(), n_estimators=100,\n",
       "                  random_state=0)</pre><b>In a Jupyter environment, please rerun this cell to show the HTML representation or trust the notebook. <br />On GitHub, the HTML representation is unable to render, please try loading this page with nbviewer.org.</b></div><div class=\"sk-container\" hidden><div class=\"sk-item sk-dashed-wrapped\"><div class=\"sk-label-container\"><div class=\"sk-label sk-toggleable\"><input class=\"sk-toggleable__control sk-hidden--visually\" id=\"sk-estimator-id-1\" type=\"checkbox\" ><label for=\"sk-estimator-id-1\" class=\"sk-toggleable__label sk-toggleable__label-arrow\">BaggingClassifier</label><div class=\"sk-toggleable__content\"><pre>BaggingClassifier(base_estimator=DecisionTreeClassifier(), n_estimators=100,\n",
       "                  random_state=0)</pre></div></div></div><div class=\"sk-parallel\"><div class=\"sk-parallel-item\"><div class=\"sk-item\"><div class=\"sk-label-container\"><div class=\"sk-label sk-toggleable\"><input class=\"sk-toggleable__control sk-hidden--visually\" id=\"sk-estimator-id-2\" type=\"checkbox\" ><label for=\"sk-estimator-id-2\" class=\"sk-toggleable__label sk-toggleable__label-arrow\">base_estimator: DecisionTreeClassifier</label><div class=\"sk-toggleable__content\"><pre>DecisionTreeClassifier()</pre></div></div></div><div class=\"sk-serial\"><div class=\"sk-item\"><div class=\"sk-estimator sk-toggleable\"><input class=\"sk-toggleable__control sk-hidden--visually\" id=\"sk-estimator-id-3\" type=\"checkbox\" ><label for=\"sk-estimator-id-3\" class=\"sk-toggleable__label sk-toggleable__label-arrow\">DecisionTreeClassifier</label><div class=\"sk-toggleable__content\"><pre>DecisionTreeClassifier()</pre></div></div></div></div></div></div></div></div></div></div>"
      ],
      "text/plain": [
       "BaggingClassifier(base_estimator=DecisionTreeClassifier(), n_estimators=100,\n",
       "                  random_state=0)"
      ]
     },
     "execution_count": 15,
     "metadata": {},
     "output_type": "execute_result"
    }
   ],
   "source": [
    "# Create a Bagging Classifier\n",
    "bagging_model = BaggingClassifier(base_estimator=base_model, n_estimators=100, random_state=0)\n",
    "\n",
    "# Train the model\n",
    "bagging_model.fit(X_train, y_train)\n"
   ]
  },
  {
   "cell_type": "code",
   "execution_count": 16,
   "metadata": {},
   "outputs": [],
   "source": [
    "# Make predictions\n",
    "y_pred = bagging_model.predict(X_test)\n"
   ]
  },
  {
   "cell_type": "code",
   "execution_count": 17,
   "metadata": {},
   "outputs": [
    {
     "name": "stdout",
     "output_type": "stream",
     "text": [
      "Accuracy: 0.9999\n",
      "              precision    recall  f1-score   support\n",
      "\n",
      "           0       1.00      1.00      1.00     17282\n",
      "           1       1.00      1.00      1.00     18215\n",
      "\n",
      "    accuracy                           1.00     35497\n",
      "   macro avg       1.00      1.00      1.00     35497\n",
      "weighted avg       1.00      1.00      1.00     35497\n",
      "\n"
     ]
    }
   ],
   "source": [
    "# Calculate accuracy\n",
    "accuracy = (y_pred == y_test).mean()\n",
    "print(f\"Accuracy: {accuracy:.4f}\")\n",
    "\n",
    "# Print classification report\n",
    "print(classification_report(y_test, y_pred))"
   ]
  },
  {
   "cell_type": "code",
   "execution_count": null,
   "metadata": {},
   "outputs": [],
   "source": []
  }
 ],
 "metadata": {
  "colab": {
   "authorship_tag": "ABX9TyMgMevcMcUoEV3qTz78xQTq",
   "provenance": []
  },
  "kernelspec": {
   "display_name": "Python 3 (ipykernel)",
   "language": "python",
   "name": "python3"
  },
  "language_info": {
   "codemirror_mode": {
    "name": "ipython",
    "version": 3
   },
   "file_extension": ".py",
   "mimetype": "text/x-python",
   "name": "python",
   "nbconvert_exporter": "python",
   "pygments_lexer": "ipython3",
   "version": "3.9.13"
  }
 },
 "nbformat": 4,
 "nbformat_minor": 1
}
